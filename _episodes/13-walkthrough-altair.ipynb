{
 "cells": [
  {
   "cell_type": "raw",
   "metadata": {},
   "source": [
    "---\n",
    "title: \"Data Visualization: A Walkthrough in Python with Altair\"\n",
    "teaching: 10\n",
    "exercises: 60\n",
    "questions:\n",
    "- \"How can we take an existing visualization and build an improved version in Python?\"\n",
    "- \"Can we use the library Altair to design the figures?\"\n",
    "- \"Can we make our graphic interactive?\"\n",
    "objectives:\n",
    "- \"Apply the visualization principles learned during the first half to a practical problem.\"\n",
    "- \"Familiarize yourself with altair\"\n",
    "\n",
    "keypoints:\n",
    "- \"altair is a powerful library for generating (interactive) visualizations\"\n",
    "- \"Matching the type of visualization to your type of data can drastically improve readability\"\n",
    "- \"Choosing an informative and high-contrast colour palette can help make the figure viewable to a wide range of viewers\"\n",
    "---"
   ]
  },
  {
   "cell_type": "markdown",
   "metadata": {},
   "source": [
    "# Data Visualization: A Walkthrough in\n",
    "\n",
    "This notebook is a follow-up to the [visualization walkthrough](http://dhuppenkothen.github.io/data-visualization-tutorial/12-walkthrough/index.html). Instead of matplotlib and seaborn, we are \n",
    "going to use the Python library [altair](https://altair-viz.github.io). \n",
    "\n",
    "Matplotlib has been enormously successful at making Python viable as a standard language for scientific computing and data analysis. In recent years, however, there have been new developments both in terms of computation and in the data visualization world, and alternatives have emerged. \n",
    "\n",
    "As we've mentioned previously, [d3.js](https://d3js.org) is a very powerful library to develop interactive visualizations using JavaScript. Because D3.js is pretty labour-intensive (and requires you to know some JavaScript), groups have started developing alternatives and extensions, some based on D3, some not, to make interactive visualization design more accessible to non-experts. For an overview of the different options in Python, [PyViz](https://pyviz.org) is a great resource to explore! \n",
    "\n",
    "One important note is that many of the packages involved are still fairly young, and so the library and the syntax might change quite frequently. Some are focused specifically on dealing with very large data sets (e.g. [DataShader](https://www.github.com/pyviz/datashader)), others don't handle large data sets well at the moment. \n",
    "\n",
    "So using any of these packages carries a bit of a risk: they might not be super well documented, or they might be missing features, or their interface might change over the course of a year or so. If you're willing to take that risk, however, you can do pretty amazing things. It's also fair to say that most of them are **open-source projects**, that is, they thrive around a community of volunteers that help improve them. **That could be you!**. When you find a bug, [file an issue](https://guides.github.com/features/issues/). When there's a feature missing you really need, contact them (also via an issue or mailing list or whatever means of communication they use). Many of those communities of developers are friendly and very interested in your feedback!\n",
    "\n",
    "### Altair, Vega-Lite and Vega\n",
    "\n",
    "In this version of the walkthrough, we're going to use a library called [Altair](https://altair-viz.github.io). Altair is also part of a larger eco-system of libraries, and based on two lower-level libraries called [Vega](https://vega.github.io) and [Vega-Lite](https://vega.github.io/vega-lite/). These two software packages, created at the [Interactive Data Lab](https://idl.cs.washington.edu) at the University of Washington, specify what is called a *data visualization grammar*. Like the grammar of a language, Vega allows you to describe the different components of visualization, as well as their relationships to one another and their relationships to the data you're trying to visualize. \n",
    "\n",
    "This type of visualization grammar, like others of its kind, has one important advantage over `matplotlib`: it's much less confusing and much more clearly structured! matplotlib was originally designed to mimic the plotting behaviour of [matlab](https://www.mathworks.com/products/matlab.html?s_tid=hp_products_matlab). But it's not writte in matlab, it's written in Python. So the developers essentially created two interfaces, one that looks like matlab, and one that follows more typically Pythonic structures. As a result, there are usually several ways to do the same thing, which don't always play well together, and this can get pretty confusing!\n",
    "\n",
    "One issue with Vega is that you have to specify *everything*: you have to tell it that there are two axes, one horizontal labelled \"x\", one vertical labelled \"y\", in which direction they point, what the scale for them is, how many tick marks it should have, etc. That gets very tedious very quickly if you just want to quickly make a scatter plot! On the other hand, if you're trying to make a super specific custom visualization, that freedom can come in very handy!\n",
    "\n",
    "So in order to make it easier for researchers to do standard things like bar chars and line charts, the developers created *Vega-Lite*, a much simpler interface on top of Vega that will automatically try to make intelligent choices for its axes. \n",
    "\n",
    "So this is great, but both Vega and Vega-Lite require you to specify your chart in [json](https://www.json.org). While json is great, it's not the most readable of formats (and there are *so many curly braces!!!*). *Altair* is essentially a Python interface to Vega-Lite that allows you to specify Vega-Lite charts in Python. One cool thing is that you can always export both Vega and Vega-Lite json specifications generated from your Python code. This can come in super handy if you're trying to customize your plot in a way that Altair doesn't allow, but Vega does. \n",
    "\n",
    "### A Quick Note on Versions\n",
    "\n",
    "Because Altair is a direct translation of Vega-Lite, it usually lags behind the most recent release of Vega-Lite by a few weeks. Keep in mind that when new features get added to Vega-Lite, they will not be immediately available in Altair, and so the two documentations might be out of synch.\n",
    "\n",
    "### Altair in your Notebook\n",
    "\n",
    "You can follow the [installation instructions](https://altair-viz.github.io/getting_started/installation.html) to get altair running in your notebook, JupyterLab or interface of choice.\n",
    "\n",
    "**Important**: Because of the notebook-to-markdown conversion, the interactive plots in this notebook **will not be interactive** on the website. In order to check out the interactivity, please \n",
    "\n",
    "Once you've done that, let's give it a quick test using one of the \n",
    "standard data sets and the code snippet from the Altair website:"
   ]
  },
  {
   "cell_type": "code",
   "execution_count": 1,
   "metadata": {},
   "outputs": [
    {
     "data": {
      "application/javascript": [
       "var spec = {\"config\": {\"view\": {\"width\": 400, \"height\": 300}, \"mark\": {\"tooltip\": null}}, \"data\": {\"name\": \"data-a264acbd6e539a8b3afc0cb5f240fb57\"}, \"mark\": \"point\", \"encoding\": {\"color\": {\"type\": \"nominal\", \"field\": \"species\"}, \"x\": {\"type\": \"quantitative\", \"field\": \"petalLength\"}, \"y\": {\"type\": \"quantitative\", \"field\": \"petalWidth\"}}, \"$schema\": \"https://vega.github.io/schema/vega-lite/v3.3.0.json\", \"datasets\": {\"data-a264acbd6e539a8b3afc0cb5f240fb57\": [{\"petalLength\": 1.4, \"petalWidth\": 0.2, \"sepalLength\": 5.1, \"sepalWidth\": 3.5, \"species\": \"setosa\"}, {\"petalLength\": 1.4, \"petalWidth\": 0.2, \"sepalLength\": 4.9, \"sepalWidth\": 3.0, \"species\": \"setosa\"}, {\"petalLength\": 1.3, \"petalWidth\": 0.2, \"sepalLength\": 4.7, \"sepalWidth\": 3.2, \"species\": \"setosa\"}, {\"petalLength\": 1.5, \"petalWidth\": 0.2, \"sepalLength\": 4.6, \"sepalWidth\": 3.1, \"species\": \"setosa\"}, {\"petalLength\": 1.4, \"petalWidth\": 0.2, \"sepalLength\": 5.0, \"sepalWidth\": 3.6, \"species\": \"setosa\"}, {\"petalLength\": 1.7000000000000002, \"petalWidth\": 0.4, \"sepalLength\": 5.4, \"sepalWidth\": 3.9, \"species\": \"setosa\"}, {\"petalLength\": 1.4, \"petalWidth\": 0.30000000000000004, \"sepalLength\": 4.6, \"sepalWidth\": 3.4, \"species\": \"setosa\"}, {\"petalLength\": 1.5, \"petalWidth\": 0.2, \"sepalLength\": 5.0, \"sepalWidth\": 3.4, \"species\": \"setosa\"}, {\"petalLength\": 1.4, \"petalWidth\": 0.2, \"sepalLength\": 4.4, \"sepalWidth\": 2.9, \"species\": \"setosa\"}, {\"petalLength\": 1.5, \"petalWidth\": 0.1, \"sepalLength\": 4.9, \"sepalWidth\": 3.1, \"species\": \"setosa\"}, {\"petalLength\": 1.5, \"petalWidth\": 0.2, \"sepalLength\": 5.4, \"sepalWidth\": 3.7, \"species\": \"setosa\"}, {\"petalLength\": 1.6, \"petalWidth\": 0.2, \"sepalLength\": 4.8, \"sepalWidth\": 3.4, \"species\": \"setosa\"}, {\"petalLength\": 1.4, \"petalWidth\": 0.1, \"sepalLength\": 4.8, \"sepalWidth\": 3.0, \"species\": \"setosa\"}, {\"petalLength\": 1.1, \"petalWidth\": 0.1, \"sepalLength\": 4.3, \"sepalWidth\": 3.0, \"species\": \"setosa\"}, {\"petalLength\": 1.2, \"petalWidth\": 0.2, \"sepalLength\": 5.8, \"sepalWidth\": 4.0, \"species\": \"setosa\"}, {\"petalLength\": 1.5, \"petalWidth\": 0.4, \"sepalLength\": 5.7, \"sepalWidth\": 4.4, \"species\": \"setosa\"}, {\"petalLength\": 1.3, \"petalWidth\": 0.4, \"sepalLength\": 5.4, \"sepalWidth\": 3.9, \"species\": \"setosa\"}, {\"petalLength\": 1.4, \"petalWidth\": 0.30000000000000004, \"sepalLength\": 5.1, \"sepalWidth\": 3.5, \"species\": \"setosa\"}, {\"petalLength\": 1.7000000000000002, \"petalWidth\": 0.30000000000000004, \"sepalLength\": 5.7, \"sepalWidth\": 3.8, \"species\": \"setosa\"}, {\"petalLength\": 1.5, \"petalWidth\": 0.30000000000000004, \"sepalLength\": 5.1, \"sepalWidth\": 3.8, \"species\": \"setosa\"}, {\"petalLength\": 1.7000000000000002, \"petalWidth\": 0.2, \"sepalLength\": 5.4, \"sepalWidth\": 3.4, \"species\": \"setosa\"}, {\"petalLength\": 1.5, \"petalWidth\": 0.4, \"sepalLength\": 5.1, \"sepalWidth\": 3.7, \"species\": \"setosa\"}, {\"petalLength\": 1.0, \"petalWidth\": 0.2, \"sepalLength\": 4.6, \"sepalWidth\": 3.6, \"species\": \"setosa\"}, {\"petalLength\": 1.7000000000000002, \"petalWidth\": 0.5, \"sepalLength\": 5.1, \"sepalWidth\": 3.3, \"species\": \"setosa\"}, {\"petalLength\": 1.9, \"petalWidth\": 0.2, \"sepalLength\": 4.8, \"sepalWidth\": 3.4, \"species\": \"setosa\"}, {\"petalLength\": 1.6, \"petalWidth\": 0.2, \"sepalLength\": 5.0, \"sepalWidth\": 3.0, \"species\": \"setosa\"}, {\"petalLength\": 1.6, \"petalWidth\": 0.4, \"sepalLength\": 5.0, \"sepalWidth\": 3.4, \"species\": \"setosa\"}, {\"petalLength\": 1.5, \"petalWidth\": 0.2, \"sepalLength\": 5.2, \"sepalWidth\": 3.5, \"species\": \"setosa\"}, {\"petalLength\": 1.4, \"petalWidth\": 0.2, \"sepalLength\": 5.2, \"sepalWidth\": 3.4, \"species\": \"setosa\"}, {\"petalLength\": 1.6, \"petalWidth\": 0.2, \"sepalLength\": 4.7, \"sepalWidth\": 3.2, \"species\": \"setosa\"}, {\"petalLength\": 1.6, \"petalWidth\": 0.2, \"sepalLength\": 4.8, \"sepalWidth\": 3.1, \"species\": \"setosa\"}, {\"petalLength\": 1.5, \"petalWidth\": 0.4, \"sepalLength\": 5.4, \"sepalWidth\": 3.4, \"species\": \"setosa\"}, {\"petalLength\": 1.5, \"petalWidth\": 0.1, \"sepalLength\": 5.2, \"sepalWidth\": 4.1, \"species\": \"setosa\"}, {\"petalLength\": 1.4, \"petalWidth\": 0.2, \"sepalLength\": 5.5, \"sepalWidth\": 4.2, \"species\": \"setosa\"}, {\"petalLength\": 1.5, \"petalWidth\": 0.2, \"sepalLength\": 4.9, \"sepalWidth\": 3.1, \"species\": \"setosa\"}, {\"petalLength\": 1.2, \"petalWidth\": 0.2, \"sepalLength\": 5.0, \"sepalWidth\": 3.2, \"species\": \"setosa\"}, {\"petalLength\": 1.3, \"petalWidth\": 0.2, \"sepalLength\": 5.5, \"sepalWidth\": 3.5, \"species\": \"setosa\"}, {\"petalLength\": 1.4, \"petalWidth\": 0.1, \"sepalLength\": 4.9, \"sepalWidth\": 3.6, \"species\": \"setosa\"}, {\"petalLength\": 1.3, \"petalWidth\": 0.2, \"sepalLength\": 4.4, \"sepalWidth\": 3.0, \"species\": \"setosa\"}, {\"petalLength\": 1.5, \"petalWidth\": 0.2, \"sepalLength\": 5.1, \"sepalWidth\": 3.4, \"species\": \"setosa\"}, {\"petalLength\": 1.3, \"petalWidth\": 0.30000000000000004, \"sepalLength\": 5.0, \"sepalWidth\": 3.5, \"species\": \"setosa\"}, {\"petalLength\": 1.3, \"petalWidth\": 0.30000000000000004, \"sepalLength\": 4.5, \"sepalWidth\": 2.3, \"species\": \"setosa\"}, {\"petalLength\": 1.3, \"petalWidth\": 0.2, \"sepalLength\": 4.4, \"sepalWidth\": 3.2, \"species\": \"setosa\"}, {\"petalLength\": 1.6, \"petalWidth\": 0.6000000000000001, \"sepalLength\": 5.0, \"sepalWidth\": 3.5, \"species\": \"setosa\"}, {\"petalLength\": 1.9, \"petalWidth\": 0.4, \"sepalLength\": 5.1, \"sepalWidth\": 3.8, \"species\": \"setosa\"}, {\"petalLength\": 1.4, \"petalWidth\": 0.30000000000000004, \"sepalLength\": 4.8, \"sepalWidth\": 3.0, \"species\": \"setosa\"}, {\"petalLength\": 1.6, \"petalWidth\": 0.2, \"sepalLength\": 5.1, \"sepalWidth\": 3.8, \"species\": \"setosa\"}, {\"petalLength\": 1.4, \"petalWidth\": 0.2, \"sepalLength\": 4.6, \"sepalWidth\": 3.2, \"species\": \"setosa\"}, {\"petalLength\": 1.5, \"petalWidth\": 0.2, \"sepalLength\": 5.3, \"sepalWidth\": 3.7, \"species\": \"setosa\"}, {\"petalLength\": 1.4, \"petalWidth\": 0.2, \"sepalLength\": 5.0, \"sepalWidth\": 3.3, \"species\": \"setosa\"}, {\"petalLength\": 4.7, \"petalWidth\": 1.4, \"sepalLength\": 7.0, \"sepalWidth\": 3.2, \"species\": \"versicolor\"}, {\"petalLength\": 4.5, \"petalWidth\": 1.5, \"sepalLength\": 6.4, \"sepalWidth\": 3.2, \"species\": \"versicolor\"}, {\"petalLength\": 4.9, \"petalWidth\": 1.5, \"sepalLength\": 6.9, \"sepalWidth\": 3.1, \"species\": \"versicolor\"}, {\"petalLength\": 4.0, \"petalWidth\": 1.3, \"sepalLength\": 5.5, \"sepalWidth\": 2.3, \"species\": \"versicolor\"}, {\"petalLength\": 4.6, \"petalWidth\": 1.5, \"sepalLength\": 6.5, \"sepalWidth\": 2.8, \"species\": \"versicolor\"}, {\"petalLength\": 4.5, \"petalWidth\": 1.3, \"sepalLength\": 5.7, \"sepalWidth\": 2.8, \"species\": \"versicolor\"}, {\"petalLength\": 4.7, \"petalWidth\": 1.6, \"sepalLength\": 6.3, \"sepalWidth\": 3.3, \"species\": \"versicolor\"}, {\"petalLength\": 3.3, \"petalWidth\": 1.0, \"sepalLength\": 4.9, \"sepalWidth\": 2.4, \"species\": \"versicolor\"}, {\"petalLength\": 4.6, \"petalWidth\": 1.3, \"sepalLength\": 6.6, \"sepalWidth\": 2.9, \"species\": \"versicolor\"}, {\"petalLength\": 3.9, \"petalWidth\": 1.4, \"sepalLength\": 5.2, \"sepalWidth\": 2.7, \"species\": \"versicolor\"}, {\"petalLength\": 3.5, \"petalWidth\": 1.0, \"sepalLength\": 5.0, \"sepalWidth\": 2.0, \"species\": \"versicolor\"}, {\"petalLength\": 4.2, \"petalWidth\": 1.5, \"sepalLength\": 5.9, \"sepalWidth\": 3.0, \"species\": \"versicolor\"}, {\"petalLength\": 4.0, \"petalWidth\": 1.0, \"sepalLength\": 6.0, \"sepalWidth\": 2.2, \"species\": \"versicolor\"}, {\"petalLength\": 4.7, \"petalWidth\": 1.4, \"sepalLength\": 6.1, \"sepalWidth\": 2.9, \"species\": \"versicolor\"}, {\"petalLength\": 3.6, \"petalWidth\": 1.3, \"sepalLength\": 5.6, \"sepalWidth\": 2.9, \"species\": \"versicolor\"}, {\"petalLength\": 4.4, \"petalWidth\": 1.4, \"sepalLength\": 6.7, \"sepalWidth\": 3.1, \"species\": \"versicolor\"}, {\"petalLength\": 4.5, \"petalWidth\": 1.5, \"sepalLength\": 5.6, \"sepalWidth\": 3.0, \"species\": \"versicolor\"}, {\"petalLength\": 4.1, \"petalWidth\": 1.0, \"sepalLength\": 5.8, \"sepalWidth\": 2.7, \"species\": \"versicolor\"}, {\"petalLength\": 4.5, \"petalWidth\": 1.5, \"sepalLength\": 6.2, \"sepalWidth\": 2.2, \"species\": \"versicolor\"}, {\"petalLength\": 3.9, \"petalWidth\": 1.1, \"sepalLength\": 5.6, \"sepalWidth\": 2.5, \"species\": \"versicolor\"}, {\"petalLength\": 4.8, \"petalWidth\": 1.8, \"sepalLength\": 5.9, \"sepalWidth\": 3.2, \"species\": \"versicolor\"}, {\"petalLength\": 4.0, \"petalWidth\": 1.3, \"sepalLength\": 6.1, \"sepalWidth\": 2.8, \"species\": \"versicolor\"}, {\"petalLength\": 4.9, \"petalWidth\": 1.5, \"sepalLength\": 6.3, \"sepalWidth\": 2.5, \"species\": \"versicolor\"}, {\"petalLength\": 4.7, \"petalWidth\": 1.2, \"sepalLength\": 6.1, \"sepalWidth\": 2.8, \"species\": \"versicolor\"}, {\"petalLength\": 4.3, \"petalWidth\": 1.3, \"sepalLength\": 6.4, \"sepalWidth\": 2.9, \"species\": \"versicolor\"}, {\"petalLength\": 4.4, \"petalWidth\": 1.4, \"sepalLength\": 6.6, \"sepalWidth\": 3.0, \"species\": \"versicolor\"}, {\"petalLength\": 4.8, \"petalWidth\": 1.4, \"sepalLength\": 6.8, \"sepalWidth\": 2.8, \"species\": \"versicolor\"}, {\"petalLength\": 5.0, \"petalWidth\": 1.7000000000000002, \"sepalLength\": 6.7, \"sepalWidth\": 3.0, \"species\": \"versicolor\"}, {\"petalLength\": 4.5, \"petalWidth\": 1.5, \"sepalLength\": 6.0, \"sepalWidth\": 2.9, \"species\": \"versicolor\"}, {\"petalLength\": 3.5, \"petalWidth\": 1.0, \"sepalLength\": 5.7, \"sepalWidth\": 2.6, \"species\": \"versicolor\"}, {\"petalLength\": 3.8, \"petalWidth\": 1.1, \"sepalLength\": 5.5, \"sepalWidth\": 2.4, \"species\": \"versicolor\"}, {\"petalLength\": 3.7, \"petalWidth\": 1.0, \"sepalLength\": 5.5, \"sepalWidth\": 2.4, \"species\": \"versicolor\"}, {\"petalLength\": 3.9, \"petalWidth\": 1.2, \"sepalLength\": 5.8, \"sepalWidth\": 2.7, \"species\": \"versicolor\"}, {\"petalLength\": 5.1, \"petalWidth\": 1.6, \"sepalLength\": 6.0, \"sepalWidth\": 2.7, \"species\": \"versicolor\"}, {\"petalLength\": 4.5, \"petalWidth\": 1.5, \"sepalLength\": 5.4, \"sepalWidth\": 3.0, \"species\": \"versicolor\"}, {\"petalLength\": 4.5, \"petalWidth\": 1.6, \"sepalLength\": 6.0, \"sepalWidth\": 3.4, \"species\": \"versicolor\"}, {\"petalLength\": 4.7, \"petalWidth\": 1.5, \"sepalLength\": 6.7, \"sepalWidth\": 3.1, \"species\": \"versicolor\"}, {\"petalLength\": 4.4, \"petalWidth\": 1.3, \"sepalLength\": 6.3, \"sepalWidth\": 2.3, \"species\": \"versicolor\"}, {\"petalLength\": 4.1, \"petalWidth\": 1.3, \"sepalLength\": 5.6, \"sepalWidth\": 3.0, \"species\": \"versicolor\"}, {\"petalLength\": 4.0, \"petalWidth\": 1.3, \"sepalLength\": 5.5, \"sepalWidth\": 2.5, \"species\": \"versicolor\"}, {\"petalLength\": 4.4, \"petalWidth\": 1.2, \"sepalLength\": 5.5, \"sepalWidth\": 2.6, \"species\": \"versicolor\"}, {\"petalLength\": 4.6, \"petalWidth\": 1.4, \"sepalLength\": 6.1, \"sepalWidth\": 3.0, \"species\": \"versicolor\"}, {\"petalLength\": 4.0, \"petalWidth\": 1.2, \"sepalLength\": 5.8, \"sepalWidth\": 2.6, \"species\": \"versicolor\"}, {\"petalLength\": 3.3, \"petalWidth\": 1.0, \"sepalLength\": 5.0, \"sepalWidth\": 2.3, \"species\": \"versicolor\"}, {\"petalLength\": 4.2, \"petalWidth\": 1.3, \"sepalLength\": 5.6, \"sepalWidth\": 2.7, \"species\": \"versicolor\"}, {\"petalLength\": 4.2, \"petalWidth\": 1.2, \"sepalLength\": 5.7, \"sepalWidth\": 3.0, \"species\": \"versicolor\"}, {\"petalLength\": 4.2, \"petalWidth\": 1.3, \"sepalLength\": 5.7, \"sepalWidth\": 2.9, \"species\": \"versicolor\"}, {\"petalLength\": 4.3, \"petalWidth\": 1.3, \"sepalLength\": 6.2, \"sepalWidth\": 2.9, \"species\": \"versicolor\"}, {\"petalLength\": 3.0, \"petalWidth\": 1.1, \"sepalLength\": 5.1, \"sepalWidth\": 2.5, \"species\": \"versicolor\"}, {\"petalLength\": 4.1, \"petalWidth\": 1.3, \"sepalLength\": 5.7, \"sepalWidth\": 2.8, \"species\": \"versicolor\"}, {\"petalLength\": 6.0, \"petalWidth\": 2.5, \"sepalLength\": 6.3, \"sepalWidth\": 3.3, \"species\": \"virginica\"}, {\"petalLength\": 5.1, \"petalWidth\": 1.9, \"sepalLength\": 5.8, \"sepalWidth\": 2.7, \"species\": \"virginica\"}, {\"petalLength\": 5.9, \"petalWidth\": 2.1, \"sepalLength\": 7.1, \"sepalWidth\": 3.0, \"species\": \"virginica\"}, {\"petalLength\": 5.6, \"petalWidth\": 1.8, \"sepalLength\": 6.3, \"sepalWidth\": 2.9, \"species\": \"virginica\"}, {\"petalLength\": 5.8, \"petalWidth\": 2.2, \"sepalLength\": 6.5, \"sepalWidth\": 3.0, \"species\": \"virginica\"}, {\"petalLength\": 6.6, \"petalWidth\": 2.1, \"sepalLength\": 7.6, \"sepalWidth\": 3.0, \"species\": \"virginica\"}, {\"petalLength\": 4.5, \"petalWidth\": 1.7000000000000002, \"sepalLength\": 4.9, \"sepalWidth\": 2.5, \"species\": \"virginica\"}, {\"petalLength\": 6.3, \"petalWidth\": 1.8, \"sepalLength\": 7.3, \"sepalWidth\": 2.9, \"species\": \"virginica\"}, {\"petalLength\": 5.8, \"petalWidth\": 1.8, \"sepalLength\": 6.7, \"sepalWidth\": 2.5, \"species\": \"virginica\"}, {\"petalLength\": 6.1, \"petalWidth\": 2.5, \"sepalLength\": 7.2, \"sepalWidth\": 3.6, \"species\": \"virginica\"}, {\"petalLength\": 5.1, \"petalWidth\": 2.0, \"sepalLength\": 6.5, \"sepalWidth\": 3.2, \"species\": \"virginica\"}, {\"petalLength\": 5.3, \"petalWidth\": 1.9, \"sepalLength\": 6.4, \"sepalWidth\": 2.7, \"species\": \"virginica\"}, {\"petalLength\": 5.5, \"petalWidth\": 2.1, \"sepalLength\": 6.8, \"sepalWidth\": 3.0, \"species\": \"virginica\"}, {\"petalLength\": 5.0, \"petalWidth\": 2.0, \"sepalLength\": 5.7, \"sepalWidth\": 2.5, \"species\": \"virginica\"}, {\"petalLength\": 5.1, \"petalWidth\": 2.4, \"sepalLength\": 5.8, \"sepalWidth\": 2.8, \"species\": \"virginica\"}, {\"petalLength\": 5.3, \"petalWidth\": 2.3, \"sepalLength\": 6.4, \"sepalWidth\": 3.2, \"species\": \"virginica\"}, {\"petalLength\": 5.5, \"petalWidth\": 1.8, \"sepalLength\": 6.5, \"sepalWidth\": 3.0, \"species\": \"virginica\"}, {\"petalLength\": 6.7, \"petalWidth\": 2.2, \"sepalLength\": 7.7, \"sepalWidth\": 3.8, \"species\": \"virginica\"}, {\"petalLength\": 6.9, \"petalWidth\": 2.3, \"sepalLength\": 7.7, \"sepalWidth\": 2.6, \"species\": \"virginica\"}, {\"petalLength\": 5.0, \"petalWidth\": 1.5, \"sepalLength\": 6.0, \"sepalWidth\": 2.2, \"species\": \"virginica\"}, {\"petalLength\": 5.7, \"petalWidth\": 2.3, \"sepalLength\": 6.9, \"sepalWidth\": 3.2, \"species\": \"virginica\"}, {\"petalLength\": 4.9, \"petalWidth\": 2.0, \"sepalLength\": 5.6, \"sepalWidth\": 2.8, \"species\": \"virginica\"}, {\"petalLength\": 6.7, \"petalWidth\": 2.0, \"sepalLength\": 7.7, \"sepalWidth\": 2.8, \"species\": \"virginica\"}, {\"petalLength\": 4.9, \"petalWidth\": 1.8, \"sepalLength\": 6.3, \"sepalWidth\": 2.7, \"species\": \"virginica\"}, {\"petalLength\": 5.7, \"petalWidth\": 2.1, \"sepalLength\": 6.7, \"sepalWidth\": 3.3, \"species\": \"virginica\"}, {\"petalLength\": 6.0, \"petalWidth\": 1.8, \"sepalLength\": 7.2, \"sepalWidth\": 3.2, \"species\": \"virginica\"}, {\"petalLength\": 4.8, \"petalWidth\": 1.8, \"sepalLength\": 6.2, \"sepalWidth\": 2.8, \"species\": \"virginica\"}, {\"petalLength\": 4.9, \"petalWidth\": 1.8, \"sepalLength\": 6.1, \"sepalWidth\": 3.0, \"species\": \"virginica\"}, {\"petalLength\": 5.6, \"petalWidth\": 2.1, \"sepalLength\": 6.4, \"sepalWidth\": 2.8, \"species\": \"virginica\"}, {\"petalLength\": 5.8, \"petalWidth\": 1.6, \"sepalLength\": 7.2, \"sepalWidth\": 3.0, \"species\": \"virginica\"}, {\"petalLength\": 6.1, \"petalWidth\": 1.9, \"sepalLength\": 7.4, \"sepalWidth\": 2.8, \"species\": \"virginica\"}, {\"petalLength\": 6.4, \"petalWidth\": 2.0, \"sepalLength\": 7.9, \"sepalWidth\": 3.8, \"species\": \"virginica\"}, {\"petalLength\": 5.6, \"petalWidth\": 2.2, \"sepalLength\": 6.4, \"sepalWidth\": 2.8, \"species\": \"virginica\"}, {\"petalLength\": 5.1, \"petalWidth\": 1.5, \"sepalLength\": 6.3, \"sepalWidth\": 2.8, \"species\": \"virginica\"}, {\"petalLength\": 5.6, \"petalWidth\": 1.4, \"sepalLength\": 6.1, \"sepalWidth\": 2.6, \"species\": \"virginica\"}, {\"petalLength\": 6.1, \"petalWidth\": 2.3, \"sepalLength\": 7.7, \"sepalWidth\": 3.0, \"species\": \"virginica\"}, {\"petalLength\": 5.6, \"petalWidth\": 2.4, \"sepalLength\": 6.3, \"sepalWidth\": 3.4, \"species\": \"virginica\"}, {\"petalLength\": 5.5, \"petalWidth\": 1.8, \"sepalLength\": 6.4, \"sepalWidth\": 3.1, \"species\": \"virginica\"}, {\"petalLength\": 4.8, \"petalWidth\": 1.8, \"sepalLength\": 6.0, \"sepalWidth\": 3.0, \"species\": \"virginica\"}, {\"petalLength\": 5.4, \"petalWidth\": 2.1, \"sepalLength\": 6.9, \"sepalWidth\": 3.1, \"species\": \"virginica\"}, {\"petalLength\": 5.6, \"petalWidth\": 2.4, \"sepalLength\": 6.7, \"sepalWidth\": 3.1, \"species\": \"virginica\"}, {\"petalLength\": 5.1, \"petalWidth\": 2.3, \"sepalLength\": 6.9, \"sepalWidth\": 3.1, \"species\": \"virginica\"}, {\"petalLength\": 5.1, \"petalWidth\": 1.9, \"sepalLength\": 5.8, \"sepalWidth\": 2.7, \"species\": \"virginica\"}, {\"petalLength\": 5.9, \"petalWidth\": 2.3, \"sepalLength\": 6.8, \"sepalWidth\": 3.2, \"species\": \"virginica\"}, {\"petalLength\": 5.7, \"petalWidth\": 2.5, \"sepalLength\": 6.7, \"sepalWidth\": 3.3, \"species\": \"virginica\"}, {\"petalLength\": 5.2, \"petalWidth\": 2.3, \"sepalLength\": 6.7, \"sepalWidth\": 3.0, \"species\": \"virginica\"}, {\"petalLength\": 5.0, \"petalWidth\": 1.9, \"sepalLength\": 6.3, \"sepalWidth\": 2.5, \"species\": \"virginica\"}, {\"petalLength\": 5.2, \"petalWidth\": 2.0, \"sepalLength\": 6.5, \"sepalWidth\": 3.0, \"species\": \"virginica\"}, {\"petalLength\": 5.4, \"petalWidth\": 2.3, \"sepalLength\": 6.2, \"sepalWidth\": 3.4, \"species\": \"virginica\"}, {\"petalLength\": 5.1, \"petalWidth\": 1.8, \"sepalLength\": 5.9, \"sepalWidth\": 3.0, \"species\": \"virginica\"}]}};\n",
       "var opt = {};\n",
       "var type = \"vega-lite\";\n",
       "var id = \"8db707f7-c43b-4abb-b79e-7ea49b6ef4af\";\n",
       "\n",
       "var output_area = this;\n",
       "\n",
       "require([\"nbextensions/jupyter-vega/index\"], function(vega) {\n",
       "  var target = document.createElement(\"div\");\n",
       "  target.id = id;\n",
       "  target.className = \"vega-embed\";\n",
       "\n",
       "  var style = document.createElement(\"style\");\n",
       "  style.textContent = [\n",
       "    \".vega-embed .error p {\",\n",
       "    \"  color: firebrick;\",\n",
       "    \"  font-size: 14px;\",\n",
       "    \"}\",\n",
       "  ].join(\"\\\\n\");\n",
       "\n",
       "  // element is a jQuery wrapped DOM element inside the output area\n",
       "  // see http://ipython.readthedocs.io/en/stable/api/generated/\\\n",
       "  // IPython.display.html#IPython.display.Javascript.__init__\n",
       "  element[0].appendChild(target);\n",
       "  element[0].appendChild(style);\n",
       "\n",
       "  vega.render(\"#\" + id, spec, type, opt, output_area);\n",
       "}, function (err) {\n",
       "  if (err.requireType !== \"scripterror\") {\n",
       "    throw(err);\n",
       "  }\n",
       "});\n"
      ],
      "text/plain": [
       "<vega.vegalite.VegaLite at 0x112326cc0>"
      ]
     },
     "metadata": {
      "jupyter-vega": "#8db707f7-c43b-4abb-b79e-7ea49b6ef4af"
     },
     "output_type": "display_data"
    },
    {
     "data": {
      "text/plain": []
     },
     "execution_count": 1,
     "metadata": {},
     "output_type": "execute_result"
    },
    {
     "data": {
      "image/png": "[encoded data removed]"
     },
     "metadata": {
      "jupyter-vega": "#8db707f7-c43b-4abb-b79e-7ea49b6ef4af"
     },
     "output_type": "display_data"
    }
   ],
   "source": [
    "import altair as alt\n",
    "from vega_datasets import data\n",
    "\n",
    "# for the notebook only (not for JupyterLab) run this command once per session\n",
    "alt.renderers.enable('notebook')\n",
    "\n",
    "iris = data.iris()\n",
    "\n",
    "alt.Chart(iris).mark_point().encode(\n",
    "    x='petalLength',\n",
    "    y='petalWidth',\n",
    "    color='species'\n",
    ")\n"
   ]
  },
  {
   "cell_type": "markdown",
   "metadata": {},
   "source": [
    "Ideally, this should display a scatter plot of the petal length of different species of Iris flowers.\n",
    "\n",
    "We're now ready to get started with our own chart.\n",
    "\n",
    "As a reminder, here's the original data visualization:\n",
    "\n",
    "![original infographic](../fig/infographic.png)\n",
    "\n",
    "Some internet business terminology to keep track of (or not):\n",
    "* \"ROI\" = \"Return on Investment\", i.e. how much profit you get back after spending some money on advertising\n",
    "* \"SEO\" = \"Search Engine Optimization\", the process of tweaking your website so that it appears far on top in search engines like Google or DuckDuckGo\n",
    "* \"PPC\" = \"Pay-per-click\" is an internet advertising model used to drive traffic to websites, in which an advertiser pays a publisher (typically a search engine, website owner, or a network of websites) when the ad is clicked (as per [wikipedia](https://en.wikipedia.org/wiki/Pay-per-click)\n",
    "* \"PR\" = \"Public Relations\", is a strategic communication process that builds mutually beneficial relationships between organisations and the public, as per [this website](https://publicrelationssydney.com.au/the-difference-between-advertising-and-pr/)\n",
    "* \"Direct Mail\": good old-fashioned snail mail advertising you get in the post\n",
    "* \"Online Media Buys\": refers to matching an advertisement to an intended audience, I think. See also [wikipedia](https://en.wikipedia.org/wiki/Media_buying)\n",
    "\n",
    "**Exercise**: Write down short statements regarding the following questions\n",
    "* When you first looked at the figure, what did you first study: the visualization or the text?\n",
    "* What key point do you think the data visualzation is meant to convey?\n",
    "* How well does the type of data visualization and its physical appearance (form, colours, contrast etc) convey the information given in the text?\n",
    "* What alternative forms might you choose to represent the data?\n",
    "\n",
    "**Note**: This a data visualization exercise, not one in internet marketing. If some of those terms don't make sense do you, that's totally okay. If you can't figure out what the figure is trying to tell you (honestly, I'm not sure, either), that's fine, too! For a data visualization exercise like this, you can totally make up a message you want to bring across (in fact, I'm going to do exactly that further down below) and run with it. In reality, we're scientists, however, and we don't make up stories in general. In your work, you might be faced with two situations:\n",
    "* *Exploratory data analysis*: Often, data visualization is a key part of exploratory data analysis, where you encounter a new data set and you don't know yet what's in there. For example, data from a new telescope might contain systematic effects that lead to funny-looking data. Visualizing the data sets helps you figure out what your data looks like, what biases might be in it. \n",
    "* *Explaining a result with a visualization*: In our scientific (or non-scientific!) publications, we often use visualizations to explain a scientific result. In these cases, we already *know* the story, our scientific result, so in this case our task is to make sure that our visualization (1) represents the data accurately (everything else would be lying), and (2) that it allows the viewer to understand your results and how you've arrived there. \n",
    "\n",
    "## Getting the Data\n",
    "\n",
    "As with the walkthrough, we first need to get the data in a machine-readable format from the figure. \n",
    "\n",
    "For that, we're also going to need `numpy` and `pandas`:"
   ]
  },
  {
   "cell_type": "code",
   "execution_count": 2,
   "metadata": {},
   "outputs": [],
   "source": [
    "import numpy as np\n",
    "import pandas as pd"
   ]
  },
  {
   "cell_type": "markdown",
   "metadata": {},
   "source": [
    "Now let's store our data in a `pandas.DataFrame`. We'll do this a little differently from the previous walkthrough using matplotlib:"
   ]
  },
  {
   "cell_type": "code",
   "execution_count": 3,
   "metadata": {},
   "outputs": [],
   "source": [
    "ad_type = [\"SEO\", \"Email\", \"PPC\",  \"PR\", \"Direct Mail\", \"OMB\"]\n",
    "roi = [68.9, 56.7, 52.4, 48.5, 37.4,  19.9]\n",
    "\n",
    "data = {\"adtype\":ad_type, \"roi\":roi}"
   ]
  },
  {
   "cell_type": "markdown",
   "metadata": {},
   "source": [
    "Here we've created two lists, one with the type of advertising, the other with the values for return on investment, and then passed both to a dictionary. We can now store these in a DataFrame: "
   ]
  },
  {
   "cell_type": "code",
   "execution_count": 4,
   "metadata": {},
   "outputs": [],
   "source": [
    "df = pd.DataFrame(data)"
   ]
  },
  {
   "cell_type": "code",
   "execution_count": 5,
   "metadata": {},
   "outputs": [
    {
     "data": {
      "text/html": [
       "<div>\n",
       "<style scoped>\n",
       "    .dataframe tbody tr th:only-of-type {\n",
       "        vertical-align: middle;\n",
       "    }\n",
       "\n",
       "    .dataframe tbody tr th {\n",
       "        vertical-align: top;\n",
       "    }\n",
       "\n",
       "    .dataframe thead th {\n",
       "        text-align: right;\n",
       "    }\n",
       "</style>\n",
       "<table border=\"1\" class=\"dataframe\">\n",
       "  <thead>\n",
       "    <tr style=\"text-align: right;\">\n",
       "      <th></th>\n",
       "      <th>adtype</th>\n",
       "      <th>roi</th>\n",
       "    </tr>\n",
       "  </thead>\n",
       "  <tbody>\n",
       "    <tr>\n",
       "      <th>0</th>\n",
       "      <td>SEO</td>\n",
       "      <td>68.9</td>\n",
       "    </tr>\n",
       "    <tr>\n",
       "      <th>1</th>\n",
       "      <td>Email</td>\n",
       "      <td>56.7</td>\n",
       "    </tr>\n",
       "    <tr>\n",
       "      <th>2</th>\n",
       "      <td>PPC</td>\n",
       "      <td>52.4</td>\n",
       "    </tr>\n",
       "    <tr>\n",
       "      <th>3</th>\n",
       "      <td>PR</td>\n",
       "      <td>48.5</td>\n",
       "    </tr>\n",
       "    <tr>\n",
       "      <th>4</th>\n",
       "      <td>Direct Mail</td>\n",
       "      <td>37.4</td>\n",
       "    </tr>\n",
       "    <tr>\n",
       "      <th>5</th>\n",
       "      <td>OMB</td>\n",
       "      <td>19.9</td>\n",
       "    </tr>\n",
       "  </tbody>\n",
       "</table>\n",
       "</div>"
      ],
      "text/plain": [
       "        adtype   roi\n",
       "0          SEO  68.9\n",
       "1        Email  56.7\n",
       "2          PPC  52.4\n",
       "3           PR  48.5\n",
       "4  Direct Mail  37.4\n",
       "5          OMB  19.9"
      ]
     },
     "execution_count": 5,
     "metadata": {},
     "output_type": "execute_result"
    }
   ],
   "source": [
    "df"
   ]
  },
  {
   "cell_type": "markdown",
   "metadata": {},
   "source": [
    "Altair can work with DataFrames, but you could also save your data to either a json file or a csv (comma-separated values) file, and then pass it the file name and location (or URL) of the file. Pandas can write out both, which can sometimes help keeping the size of your notebook smaller.\n",
    "\n",
    "But in this case, let's use the DataFrame.\n",
    "\n",
    "### (Bar) Charts in Altair\n",
    "\n",
    "All figures you generate in Altair follow a similar convention, and all are objects of class `Chart()`. `Chart()` usually takes your data as an input, and then you'll use *methods* (functions that apply to a specific class of object) to specify what you actually want to plot.\n",
    "\n",
    "Let's give this a try:"
   ]
  },
  {
   "cell_type": "code",
   "execution_count": 6,
   "metadata": {},
   "outputs": [
    {
     "data": {
      "application/javascript": [
       "var spec = {\"config\": {\"view\": {\"width\": 400, \"height\": 300}, \"mark\": {\"tooltip\": null}}, \"data\": {\"name\": \"data-3b61b76e831b803e45874039d9068ed3\"}, \"mark\": \"bar\", \"encoding\": {\"x\": {\"type\": \"ordinal\", \"field\": \"adtype\"}, \"y\": {\"type\": \"quantitative\", \"field\": \"roi\"}}, \"$schema\": \"https://vega.github.io/schema/vega-lite/v3.3.0.json\", \"datasets\": {\"data-3b61b76e831b803e45874039d9068ed3\": [{\"adtype\": \"SEO\", \"roi\": 68.9}, {\"adtype\": \"Email\", \"roi\": 56.7}, {\"adtype\": \"PPC\", \"roi\": 52.4}, {\"adtype\": \"PR\", \"roi\": 48.5}, {\"adtype\": \"Direct Mail\", \"roi\": 37.4}, {\"adtype\": \"OMB\", \"roi\": 19.9}]}};\n",
       "var opt = {};\n",
       "var type = \"vega-lite\";\n",
       "var id = \"1208942f-2963-4d36-8372-15a5a5bb3a51\";\n",
       "\n",
       "var output_area = this;\n",
       "\n",
       "require([\"nbextensions/jupyter-vega/index\"], function(vega) {\n",
       "  var target = document.createElement(\"div\");\n",
       "  target.id = id;\n",
       "  target.className = \"vega-embed\";\n",
       "\n",
       "  var style = document.createElement(\"style\");\n",
       "  style.textContent = [\n",
       "    \".vega-embed .error p {\",\n",
       "    \"  color: firebrick;\",\n",
       "    \"  font-size: 14px;\",\n",
       "    \"}\",\n",
       "  ].join(\"\\\\n\");\n",
       "\n",
       "  // element is a jQuery wrapped DOM element inside the output area\n",
       "  // see http://ipython.readthedocs.io/en/stable/api/generated/\\\n",
       "  // IPython.display.html#IPython.display.Javascript.__init__\n",
       "  element[0].appendChild(target);\n",
       "  element[0].appendChild(style);\n",
       "\n",
       "  vega.render(\"#\" + id, spec, type, opt, output_area);\n",
       "}, function (err) {\n",
       "  if (err.requireType !== \"scripterror\") {\n",
       "    throw(err);\n",
       "  }\n",
       "});\n"
      ],
      "text/plain": [
       "<vega.vegalite.VegaLite at 0x112525e10>"
      ]
     },
     "metadata": {
      "jupyter-vega": "#1208942f-2963-4d36-8372-15a5a5bb3a51"
     },
     "output_type": "display_data"
    },
    {
     "data": {
      "text/plain": []
     },
     "execution_count": 6,
     "metadata": {},
     "output_type": "execute_result"
    },
    {
     "data": {
      "image/png": "[encoded data removed]"
     },
     "metadata": {
      "jupyter-vega": "#1208942f-2963-4d36-8372-15a5a5bb3a51"
     },
     "output_type": "display_data"
    }
   ],
   "source": [
    "alt.Chart(df).mark_bar().encode(\n",
    "    x = \"adtype:O\",\n",
    "    y = \"roi:Q\"\n",
    ")"
   ]
  },
  {
   "cell_type": "markdown",
   "metadata": {},
   "source": [
    "What have we done? The syntax might look a little funny, but we've essentially called a number of methods on the `Chart()` class to tell it what to do. One thing we've used is the `mark_bar()` method. This tells Altair that the plot it should produce is a bar chart. Then we've used the `encode` method to actually tell it what values to plot. \n",
    "\n",
    "You pretty much *always* have to call the `encode` method somewhere: you could pass in a DataFrame with many more columns (for example a column called \"cost\"), and then Altair wouldn't know which ones to use and which ones to leave out. In the case above, we've told it to put \"adtype\" on the x-axis and \"roi\" on the y-axis. The syntax `:O` and `:Q` after each tells Altair that \"adtype\" contains ordinal data (i.e. separate, distinct categories), and \"roi\" contains quantitative data (i.e. continuous numbers).\n",
    "\n",
    "You might also notice that Altair has made some default choices about the dimensions of the chart, the units on the y-axis, the grid lines in the background, and so on. It also automatically adds axis labels when it has an idea of what labels to give it (it chose the column labels from our DataFrame in this case).\n",
    "\n",
    "That chart looks great, but it's a bit squashed. We can un-squash it by setting the size of the chart:"
   ]
  },
  {
   "cell_type": "code",
   "execution_count": 7,
   "metadata": {},
   "outputs": [
    {
     "data": {
      "application/javascript": [
       "var spec = {\"config\": {\"view\": {\"width\": 400, \"height\": 300}, \"mark\": {\"tooltip\": null}}, \"data\": {\"name\": \"data-3b61b76e831b803e45874039d9068ed3\"}, \"mark\": \"bar\", \"encoding\": {\"x\": {\"type\": \"ordinal\", \"field\": \"adtype\"}, \"y\": {\"type\": \"quantitative\", \"field\": \"roi\"}}, \"height\": 200, \"width\": 300, \"$schema\": \"https://vega.github.io/schema/vega-lite/v3.3.0.json\", \"datasets\": {\"data-3b61b76e831b803e45874039d9068ed3\": [{\"adtype\": \"SEO\", \"roi\": 68.9}, {\"adtype\": \"Email\", \"roi\": 56.7}, {\"adtype\": \"PPC\", \"roi\": 52.4}, {\"adtype\": \"PR\", \"roi\": 48.5}, {\"adtype\": \"Direct Mail\", \"roi\": 37.4}, {\"adtype\": \"OMB\", \"roi\": 19.9}]}};\n",
       "var opt = {};\n",
       "var type = \"vega-lite\";\n",
       "var id = \"7379526d-f88e-4145-a1b9-fe8c2666e692\";\n",
       "\n",
       "var output_area = this;\n",
       "\n",
       "require([\"nbextensions/jupyter-vega/index\"], function(vega) {\n",
       "  var target = document.createElement(\"div\");\n",
       "  target.id = id;\n",
       "  target.className = \"vega-embed\";\n",
       "\n",
       "  var style = document.createElement(\"style\");\n",
       "  style.textContent = [\n",
       "    \".vega-embed .error p {\",\n",
       "    \"  color: firebrick;\",\n",
       "    \"  font-size: 14px;\",\n",
       "    \"}\",\n",
       "  ].join(\"\\\\n\");\n",
       "\n",
       "  // element is a jQuery wrapped DOM element inside the output area\n",
       "  // see http://ipython.readthedocs.io/en/stable/api/generated/\\\n",
       "  // IPython.display.html#IPython.display.Javascript.__init__\n",
       "  element[0].appendChild(target);\n",
       "  element[0].appendChild(style);\n",
       "\n",
       "  vega.render(\"#\" + id, spec, type, opt, output_area);\n",
       "}, function (err) {\n",
       "  if (err.requireType !== \"scripterror\") {\n",
       "    throw(err);\n",
       "  }\n",
       "});\n"
      ],
      "text/plain": [
       "<vega.vegalite.VegaLite at 0x112539cc0>"
      ]
     },
     "metadata": {
      "jupyter-vega": "#7379526d-f88e-4145-a1b9-fe8c2666e692"
     },
     "output_type": "display_data"
    },
    {
     "data": {
      "text/plain": []
     },
     "execution_count": 7,
     "metadata": {},
     "output_type": "execute_result"
    },
    {
     "data": {
      "image/png": "[encoded data removed]"
     },
     "metadata": {
      "jupyter-vega": "#7379526d-f88e-4145-a1b9-fe8c2666e692"
     },
     "output_type": "display_data"
    }
   ],
   "source": [
    "alt.Chart(df).mark_bar().encode(\n",
    "    x = \"adtype:O\",\n",
    "    y = \"roi:Q\"\n",
    ").properties(\n",
    "    width=300,\n",
    "    height=200\n",
    ")"
   ]
  },
  {
   "cell_type": "markdown",
   "metadata": {},
   "source": [
    "Looks better, doesn't it? Unlike seaborn, Altair automatically gives the bars the same colour. You can specify the colour in two different ways. You can pass it directly to the `mark_bar()` method:\n",
    "\n",
    "\n"
   ]
  },
  {
   "cell_type": "code",
   "execution_count": 8,
   "metadata": {},
   "outputs": [
    {
     "data": {
      "application/javascript": [
       "var spec = {\"config\": {\"view\": {\"width\": 400, \"height\": 300}, \"mark\": {\"tooltip\": null}}, \"data\": {\"name\": \"data-3b61b76e831b803e45874039d9068ed3\"}, \"mark\": {\"type\": \"bar\", \"color\": \"darkblue\"}, \"encoding\": {\"x\": {\"type\": \"ordinal\", \"field\": \"adtype\"}, \"y\": {\"type\": \"quantitative\", \"field\": \"roi\"}}, \"height\": 200, \"width\": 300, \"$schema\": \"https://vega.github.io/schema/vega-lite/v3.3.0.json\", \"datasets\": {\"data-3b61b76e831b803e45874039d9068ed3\": [{\"adtype\": \"SEO\", \"roi\": 68.9}, {\"adtype\": \"Email\", \"roi\": 56.7}, {\"adtype\": \"PPC\", \"roi\": 52.4}, {\"adtype\": \"PR\", \"roi\": 48.5}, {\"adtype\": \"Direct Mail\", \"roi\": 37.4}, {\"adtype\": \"OMB\", \"roi\": 19.9}]}};\n",
       "var opt = {};\n",
       "var type = \"vega-lite\";\n",
       "var id = \"c4ac3b58-6068-474c-a75f-0469b90e75b5\";\n",
       "\n",
       "var output_area = this;\n",
       "\n",
       "require([\"nbextensions/jupyter-vega/index\"], function(vega) {\n",
       "  var target = document.createElement(\"div\");\n",
       "  target.id = id;\n",
       "  target.className = \"vega-embed\";\n",
       "\n",
       "  var style = document.createElement(\"style\");\n",
       "  style.textContent = [\n",
       "    \".vega-embed .error p {\",\n",
       "    \"  color: firebrick;\",\n",
       "    \"  font-size: 14px;\",\n",
       "    \"}\",\n",
       "  ].join(\"\\\\n\");\n",
       "\n",
       "  // element is a jQuery wrapped DOM element inside the output area\n",
       "  // see http://ipython.readthedocs.io/en/stable/api/generated/\\\n",
       "  // IPython.display.html#IPython.display.Javascript.__init__\n",
       "  element[0].appendChild(target);\n",
       "  element[0].appendChild(style);\n",
       "\n",
       "  vega.render(\"#\" + id, spec, type, opt, output_area);\n",
       "}, function (err) {\n",
       "  if (err.requireType !== \"scripterror\") {\n",
       "    throw(err);\n",
       "  }\n",
       "});\n"
      ],
      "text/plain": [
       "<vega.vegalite.VegaLite at 0x1125409e8>"
      ]
     },
     "metadata": {
      "jupyter-vega": "#c4ac3b58-6068-474c-a75f-0469b90e75b5"
     },
     "output_type": "display_data"
    },
    {
     "data": {
      "text/plain": []
     },
     "execution_count": 8,
     "metadata": {},
     "output_type": "execute_result"
    },
    {
     "data": {
      "image/png": "[encoded data removed]"
     },
     "metadata": {
      "jupyter-vega": "#c4ac3b58-6068-474c-a75f-0469b90e75b5"
     },
     "output_type": "display_data"
    }
   ],
   "source": [
    "alt.Chart(df).mark_bar(color=\"darkblue\").encode(\n",
    "    x = \"adtype:O\",\n",
    "    y = \"roi:Q\"\n",
    ").properties(\n",
    "    width=300,\n",
    "    height=200\n",
    ")"
   ]
  },
  {
   "cell_type": "markdown",
   "metadata": {},
   "source": [
    "Any [html colour code](https://htmlcolorcodes.com) will work, along with any hexadecimal colour code you can generate on that website or others.\n",
    "\n",
    "The other cool thing you can do is to do something called *conditional formatting*. Let's say we want to colour online methods of advertising and offline methods of advertising separately. Let's add a column to our DataFrame to do exactly that:"
   ]
  },
  {
   "cell_type": "code",
   "execution_count": 9,
   "metadata": {},
   "outputs": [],
   "source": [
    "df[\"online\"] = [\"yes\", \"yes\", \"yes\", \"no\", \"no\", \"yes\"]"
   ]
  },
  {
   "cell_type": "code",
   "execution_count": 10,
   "metadata": {},
   "outputs": [
    {
     "data": {
      "text/html": [
       "<div>\n",
       "<style scoped>\n",
       "    .dataframe tbody tr th:only-of-type {\n",
       "        vertical-align: middle;\n",
       "    }\n",
       "\n",
       "    .dataframe tbody tr th {\n",
       "        vertical-align: top;\n",
       "    }\n",
       "\n",
       "    .dataframe thead th {\n",
       "        text-align: right;\n",
       "    }\n",
       "</style>\n",
       "<table border=\"1\" class=\"dataframe\">\n",
       "  <thead>\n",
       "    <tr style=\"text-align: right;\">\n",
       "      <th></th>\n",
       "      <th>adtype</th>\n",
       "      <th>roi</th>\n",
       "      <th>online</th>\n",
       "    </tr>\n",
       "  </thead>\n",
       "  <tbody>\n",
       "    <tr>\n",
       "      <th>0</th>\n",
       "      <td>SEO</td>\n",
       "      <td>68.9</td>\n",
       "      <td>yes</td>\n",
       "    </tr>\n",
       "    <tr>\n",
       "      <th>1</th>\n",
       "      <td>Email</td>\n",
       "      <td>56.7</td>\n",
       "      <td>yes</td>\n",
       "    </tr>\n",
       "    <tr>\n",
       "      <th>2</th>\n",
       "      <td>PPC</td>\n",
       "      <td>52.4</td>\n",
       "      <td>yes</td>\n",
       "    </tr>\n",
       "    <tr>\n",
       "      <th>3</th>\n",
       "      <td>PR</td>\n",
       "      <td>48.5</td>\n",
       "      <td>no</td>\n",
       "    </tr>\n",
       "    <tr>\n",
       "      <th>4</th>\n",
       "      <td>Direct Mail</td>\n",
       "      <td>37.4</td>\n",
       "      <td>no</td>\n",
       "    </tr>\n",
       "    <tr>\n",
       "      <th>5</th>\n",
       "      <td>OMB</td>\n",
       "      <td>19.9</td>\n",
       "      <td>yes</td>\n",
       "    </tr>\n",
       "  </tbody>\n",
       "</table>\n",
       "</div>"
      ],
      "text/plain": [
       "        adtype   roi online\n",
       "0          SEO  68.9    yes\n",
       "1        Email  56.7    yes\n",
       "2          PPC  52.4    yes\n",
       "3           PR  48.5     no\n",
       "4  Direct Mail  37.4     no\n",
       "5          OMB  19.9    yes"
      ]
     },
     "execution_count": 10,
     "metadata": {},
     "output_type": "execute_result"
    }
   ],
   "source": [
    "df"
   ]
  },
  {
   "cell_type": "markdown",
   "metadata": {},
   "source": [
    "I've told it that all but PR and Direct Mail are online versions. Instead of passing \"color\" to the `mark_bar()` method, we can also pass it to the `encoding()` method. Let's see what happens when we do that:"
   ]
  },
  {
   "cell_type": "code",
   "execution_count": 11,
   "metadata": {},
   "outputs": [
    {
     "data": {
      "application/javascript": [
       "var spec = {\"config\": {\"view\": {\"width\": 400, \"height\": 300}, \"mark\": {\"tooltip\": null}}, \"data\": {\"name\": \"data-0a6c0b52e145303587c34fb1927674f0\"}, \"mark\": \"bar\", \"encoding\": {\"color\": {\"type\": \"ordinal\", \"field\": \"online\"}, \"x\": {\"type\": \"ordinal\", \"field\": \"adtype\"}, \"y\": {\"type\": \"quantitative\", \"field\": \"roi\"}}, \"height\": 200, \"width\": 300, \"$schema\": \"https://vega.github.io/schema/vega-lite/v3.3.0.json\", \"datasets\": {\"data-0a6c0b52e145303587c34fb1927674f0\": [{\"adtype\": \"SEO\", \"roi\": 68.9, \"online\": \"yes\"}, {\"adtype\": \"Email\", \"roi\": 56.7, \"online\": \"yes\"}, {\"adtype\": \"PPC\", \"roi\": 52.4, \"online\": \"yes\"}, {\"adtype\": \"PR\", \"roi\": 48.5, \"online\": \"no\"}, {\"adtype\": \"Direct Mail\", \"roi\": 37.4, \"online\": \"no\"}, {\"adtype\": \"OMB\", \"roi\": 19.9, \"online\": \"yes\"}]}};\n",
       "var opt = {};\n",
       "var type = \"vega-lite\";\n",
       "var id = \"62d7cee7-f468-4d59-9852-f07261559554\";\n",
       "\n",
       "var output_area = this;\n",
       "\n",
       "require([\"nbextensions/jupyter-vega/index\"], function(vega) {\n",
       "  var target = document.createElement(\"div\");\n",
       "  target.id = id;\n",
       "  target.className = \"vega-embed\";\n",
       "\n",
       "  var style = document.createElement(\"style\");\n",
       "  style.textContent = [\n",
       "    \".vega-embed .error p {\",\n",
       "    \"  color: firebrick;\",\n",
       "    \"  font-size: 14px;\",\n",
       "    \"}\",\n",
       "  ].join(\"\\\\n\");\n",
       "\n",
       "  // element is a jQuery wrapped DOM element inside the output area\n",
       "  // see http://ipython.readthedocs.io/en/stable/api/generated/\\\n",
       "  // IPython.display.html#IPython.display.Javascript.__init__\n",
       "  element[0].appendChild(target);\n",
       "  element[0].appendChild(style);\n",
       "\n",
       "  vega.render(\"#\" + id, spec, type, opt, output_area);\n",
       "}, function (err) {\n",
       "  if (err.requireType !== \"scripterror\") {\n",
       "    throw(err);\n",
       "  }\n",
       "});\n"
      ],
      "text/plain": [
       "<vega.vegalite.VegaLite at 0x112539f98>"
      ]
     },
     "metadata": {
      "jupyter-vega": "#62d7cee7-f468-4d59-9852-f07261559554"
     },
     "output_type": "display_data"
    },
    {
     "data": {
      "text/plain": []
     },
     "execution_count": 11,
     "metadata": {},
     "output_type": "execute_result"
    },
    {
     "data": {
      "image/png": "[encoded data removed]"
     },
     "metadata": {
      "jupyter-vega": "#62d7cee7-f468-4d59-9852-f07261559554"
     },
     "output_type": "display_data"
    }
   ],
   "source": [
    "alt.Chart(df).mark_bar().encode(\n",
    "    x = \"adtype:O\",\n",
    "    y = \"roi:Q\",\n",
    "    color= \"online:O\"\n",
    ").properties(\n",
    "    width=300,\n",
    "    height=200\n",
    ")"
   ]
  },
  {
   "cell_type": "markdown",
   "metadata": {},
   "source": [
    "It has now coloured the two bars differently, and it has automatically added a legend! \n",
    "\n",
    "There are other values you can choose. For example, in a scatter plot, you could use `size` as an encoding channel to vary the size of the points as a function of some property of each point. You can also encode `opacity`, i.e. how transparent a plot element is:"
   ]
  },
  {
   "cell_type": "code",
   "execution_count": 35,
   "metadata": {},
   "outputs": [
    {
     "data": {
      "application/javascript": [
       "var spec = {\"config\": {\"view\": {\"width\": 400, \"height\": 300}, \"mark\": {\"tooltip\": null}}, \"data\": {\"name\": \"data-0a6c0b52e145303587c34fb1927674f0\"}, \"mark\": \"bar\", \"encoding\": {\"opacity\": {\"value\": 0.0, \"condition\": {\"value\": 1.0, \"test\": \"(datum.online === 'yes')\"}}, \"x\": {\"type\": \"ordinal\", \"field\": \"adtype\"}, \"y\": {\"type\": \"quantitative\", \"field\": \"roi\"}}, \"height\": 200, \"width\": 300, \"$schema\": \"https://vega.github.io/schema/vega-lite/v3.3.0.json\", \"datasets\": {\"data-0a6c0b52e145303587c34fb1927674f0\": [{\"adtype\": \"SEO\", \"roi\": 68.9, \"online\": \"yes\"}, {\"adtype\": \"Email\", \"roi\": 56.7, \"online\": \"yes\"}, {\"adtype\": \"PPC\", \"roi\": 52.4, \"online\": \"yes\"}, {\"adtype\": \"PR\", \"roi\": 48.5, \"online\": \"no\"}, {\"adtype\": \"Direct Mail\", \"roi\": 37.4, \"online\": \"no\"}, {\"adtype\": \"OMB\", \"roi\": 19.9, \"online\": \"yes\"}]}};\n",
       "var opt = {};\n",
       "var type = \"vega-lite\";\n",
       "var id = \"0442e1af-bca6-435d-ad8f-6e00a2d4e380\";\n",
       "\n",
       "var output_area = this;\n",
       "\n",
       "require([\"nbextensions/jupyter-vega/index\"], function(vega) {\n",
       "  var target = document.createElement(\"div\");\n",
       "  target.id = id;\n",
       "  target.className = \"vega-embed\";\n",
       "\n",
       "  var style = document.createElement(\"style\");\n",
       "  style.textContent = [\n",
       "    \".vega-embed .error p {\",\n",
       "    \"  color: firebrick;\",\n",
       "    \"  font-size: 14px;\",\n",
       "    \"}\",\n",
       "  ].join(\"\\\\n\");\n",
       "\n",
       "  // element is a jQuery wrapped DOM element inside the output area\n",
       "  // see http://ipython.readthedocs.io/en/stable/api/generated/\\\n",
       "  // IPython.display.html#IPython.display.Javascript.__init__\n",
       "  element[0].appendChild(target);\n",
       "  element[0].appendChild(style);\n",
       "\n",
       "  vega.render(\"#\" + id, spec, type, opt, output_area);\n",
       "}, function (err) {\n",
       "  if (err.requireType !== \"scripterror\") {\n",
       "    throw(err);\n",
       "  }\n",
       "});\n"
      ],
      "text/plain": [
       "<vega.vegalite.VegaLite at 0x1126be160>"
      ]
     },
     "metadata": {
      "jupyter-vega": "#0442e1af-bca6-435d-ad8f-6e00a2d4e380"
     },
     "output_type": "display_data"
    },
    {
     "data": {
      "text/plain": []
     },
     "execution_count": 35,
     "metadata": {},
     "output_type": "execute_result"
    },
    {
     "data": {
      "image/png": "[encoded data removed]"
     },
     "metadata": {
      "jupyter-vega": "#0442e1af-bca6-435d-ad8f-6e00a2d4e380"
     },
     "output_type": "display_data"
    }
   ],
   "source": [
    "alt.Chart(df).mark_bar().encode(\n",
    "    x = \"adtype:O\",\n",
    "    y = \"roi:Q\",\n",
    "    opacity= \"online:O\"\n",
    ").properties(\n",
    "    width=300,\n",
    "    height=200\n",
    ")"
   ]
  },
  {
   "cell_type": "markdown",
   "metadata": {},
   "source": [
    "Here, the colour remains the same, but offline methods are less opaque than online methods. For a list of all the different possible encodings, and how to use them, you can look at the [relevant Altair documentation](https://altair-viz.github.io/user_guide/encoding.html).\n",
    "\n",
    "**Warning**: Being able to encode many different properties on the same plot doesn't mean it's a good idea to do so! People are unlikely to really understand more than 2-3 different dimensions on a plot. Wherever possible, try to use different encodings to *reinforce* important data properties (for example, you could use a \"color\" and \"size\" encoding using the *same data property*, so that for example in your scatter plot marks that are bigger will also be blue, and marks that are smaller will also be green). This helps viewers understand the structure of your data better.\n",
    "\n",
    "We might not like Altair's defaults for colour and opacity, so let's change it. We can do that by using the `condition` function like so:"
   ]
  },
  {
   "cell_type": "code",
   "execution_count": 13,
   "metadata": {},
   "outputs": [
    {
     "data": {
      "application/javascript": [
       "var spec = {\"config\": {\"view\": {\"width\": 400, \"height\": 300}, \"mark\": {\"tooltip\": null}}, \"data\": {\"name\": \"data-0a6c0b52e145303587c34fb1927674f0\"}, \"mark\": \"bar\", \"encoding\": {\"color\": {\"value\": \"steelblue\", \"condition\": {\"value\": \"orange\", \"test\": \"(datum.online === 'yes')\"}}, \"x\": {\"type\": \"ordinal\", \"field\": \"adtype\"}, \"y\": {\"type\": \"quantitative\", \"field\": \"roi\"}}, \"height\": 200, \"width\": 300, \"$schema\": \"https://vega.github.io/schema/vega-lite/v3.3.0.json\", \"datasets\": {\"data-0a6c0b52e145303587c34fb1927674f0\": [{\"adtype\": \"SEO\", \"roi\": 68.9, \"online\": \"yes\"}, {\"adtype\": \"Email\", \"roi\": 56.7, \"online\": \"yes\"}, {\"adtype\": \"PPC\", \"roi\": 52.4, \"online\": \"yes\"}, {\"adtype\": \"PR\", \"roi\": 48.5, \"online\": \"no\"}, {\"adtype\": \"Direct Mail\", \"roi\": 37.4, \"online\": \"no\"}, {\"adtype\": \"OMB\", \"roi\": 19.9, \"online\": \"yes\"}]}};\n",
       "var opt = {};\n",
       "var type = \"vega-lite\";\n",
       "var id = \"df3e413a-2117-4f84-a503-12456f7b10fa\";\n",
       "\n",
       "var output_area = this;\n",
       "\n",
       "require([\"nbextensions/jupyter-vega/index\"], function(vega) {\n",
       "  var target = document.createElement(\"div\");\n",
       "  target.id = id;\n",
       "  target.className = \"vega-embed\";\n",
       "\n",
       "  var style = document.createElement(\"style\");\n",
       "  style.textContent = [\n",
       "    \".vega-embed .error p {\",\n",
       "    \"  color: firebrick;\",\n",
       "    \"  font-size: 14px;\",\n",
       "    \"}\",\n",
       "  ].join(\"\\\\n\");\n",
       "\n",
       "  // element is a jQuery wrapped DOM element inside the output area\n",
       "  // see http://ipython.readthedocs.io/en/stable/api/generated/\\\n",
       "  // IPython.display.html#IPython.display.Javascript.__init__\n",
       "  element[0].appendChild(target);\n",
       "  element[0].appendChild(style);\n",
       "\n",
       "  vega.render(\"#\" + id, spec, type, opt, output_area);\n",
       "}, function (err) {\n",
       "  if (err.requireType !== \"scripterror\") {\n",
       "    throw(err);\n",
       "  }\n",
       "});\n"
      ],
      "text/plain": [
       "<vega.vegalite.VegaLite at 0x112540f60>"
      ]
     },
     "metadata": {
      "jupyter-vega": "#df3e413a-2117-4f84-a503-12456f7b10fa"
     },
     "output_type": "display_data"
    },
    {
     "data": {
      "text/plain": []
     },
     "execution_count": 13,
     "metadata": {},
     "output_type": "execute_result"
    },
    {
     "data": {
      "image/png": "[encoded data removed]"
     },
     "metadata": {
      "jupyter-vega": "#df3e413a-2117-4f84-a503-12456f7b10fa"
     },
     "output_type": "display_data"
    }
   ],
   "source": [
    "alt.Chart(df).mark_bar().encode(\n",
    "    x = \"adtype:O\",\n",
    "    y = \"roi:Q\",\n",
    "    color= alt.condition(\n",
    "        alt.datum.online == \"yes\", \n",
    "        alt.value(\"orange\"),\n",
    "        alt.value(\"steelblue\"))\n",
    ").properties(\n",
    "    width=300,\n",
    "    height=200\n",
    ")"
   ]
  },
  {
   "cell_type": "markdown",
   "metadata": {},
   "source": [
    "Here, we've told it to plot the online methods in orange, and then offline methods in blue. the `condition()` function takes as first argument a condition, here `alt.datum.online == \"yes\"`, which basically says \"take the data points in column \"online\" and find all rows for which the value is \"yes\". The next two arguments specify what it should do if this condition is true (here, use an orange colour) and what it should do if the condition is false (use a blue colour). The `condition` function is pretty powerful and useful in Altair, and often used in interactive visualizations, so it's worth understanding how it works! You can find more information in the [Interaction section of the documentation](https://altair-viz.github.io/user_guide/interactions.html). \n",
    "\n",
    "### Specifying Axes\n",
    "\n",
    "What I currently don't like about our plot are the axis labels. The column names we gave are pretty descriptive and short, so useful when you have to type them many times in a data analysis, but if you put them in your paper, few people would understand what they mean. \n",
    "\n",
    "Let's give our plot some more descriptive axis labels. For this, you'll have to know that the encoding syntax we used above, where we wrote `x=\"adtype:Q\"` is a shorthand for a longer command. The shorthand is useful for quick plots where you don't care about anything but the defaults, but when you want to specify more details, you might want to use a little bit more verbose syntax:"
   ]
  },
  {
   "cell_type": "code",
   "execution_count": 17,
   "metadata": {},
   "outputs": [
    {
     "data": {
      "application/javascript": [
       "var spec = {\"config\": {\"view\": {\"width\": 400, \"height\": 300}, \"mark\": {\"tooltip\": null}}, \"data\": {\"name\": \"data-0a6c0b52e145303587c34fb1927674f0\"}, \"mark\": \"bar\", \"encoding\": {\"color\": {\"value\": \"steelblue\", \"condition\": {\"value\": \"orange\", \"test\": \"(datum.online === 'yes')\"}}, \"x\": {\"type\": \"ordinal\", \"field\": \"adtype\", \"title\": \"Type of Advertising\"}, \"y\": {\"type\": \"quantitative\", \"field\": \"roi\", \"title\": \"Return on Investment [%]\"}}, \"height\": 200, \"width\": 300, \"$schema\": \"https://vega.github.io/schema/vega-lite/v3.3.0.json\", \"datasets\": {\"data-0a6c0b52e145303587c34fb1927674f0\": [{\"adtype\": \"SEO\", \"roi\": 68.9, \"online\": \"yes\"}, {\"adtype\": \"Email\", \"roi\": 56.7, \"online\": \"yes\"}, {\"adtype\": \"PPC\", \"roi\": 52.4, \"online\": \"yes\"}, {\"adtype\": \"PR\", \"roi\": 48.5, \"online\": \"no\"}, {\"adtype\": \"Direct Mail\", \"roi\": 37.4, \"online\": \"no\"}, {\"adtype\": \"OMB\", \"roi\": 19.9, \"online\": \"yes\"}]}};\n",
       "var opt = {};\n",
       "var type = \"vega-lite\";\n",
       "var id = \"e983c72c-9f72-4d2c-ac4b-233db951bba3\";\n",
       "\n",
       "var output_area = this;\n",
       "\n",
       "require([\"nbextensions/jupyter-vega/index\"], function(vega) {\n",
       "  var target = document.createElement(\"div\");\n",
       "  target.id = id;\n",
       "  target.className = \"vega-embed\";\n",
       "\n",
       "  var style = document.createElement(\"style\");\n",
       "  style.textContent = [\n",
       "    \".vega-embed .error p {\",\n",
       "    \"  color: firebrick;\",\n",
       "    \"  font-size: 14px;\",\n",
       "    \"}\",\n",
       "  ].join(\"\\\\n\");\n",
       "\n",
       "  // element is a jQuery wrapped DOM element inside the output area\n",
       "  // see http://ipython.readthedocs.io/en/stable/api/generated/\\\n",
       "  // IPython.display.html#IPython.display.Javascript.__init__\n",
       "  element[0].appendChild(target);\n",
       "  element[0].appendChild(style);\n",
       "\n",
       "  vega.render(\"#\" + id, spec, type, opt, output_area);\n",
       "}, function (err) {\n",
       "  if (err.requireType !== \"scripterror\") {\n",
       "    throw(err);\n",
       "  }\n",
       "});\n"
      ],
      "text/plain": [
       "<vega.vegalite.VegaLite at 0x112539f28>"
      ]
     },
     "metadata": {
      "jupyter-vega": "#e983c72c-9f72-4d2c-ac4b-233db951bba3"
     },
     "output_type": "display_data"
    },
    {
     "data": {
      "text/plain": []
     },
     "execution_count": 17,
     "metadata": {},
     "output_type": "execute_result"
    },
    {
     "data": {
      "image/png": "[encoded data removed]"
     },
     "metadata": {
      "jupyter-vega": "#e983c72c-9f72-4d2c-ac4b-233db951bba3"
     },
     "output_type": "display_data"
    }
   ],
   "source": [
    "alt.Chart(df).mark_bar().encode(\n",
    "    x = alt.X(\"adtype:O\", title=\"Type of Advertising\"),\n",
    "    y = alt.Y(\"roi:Q\", title=\"Return on Investment [%]\"),\n",
    "    color= alt.condition(\n",
    "        alt.datum.online == \"yes\", \n",
    "        alt.value(\"orange\"),\n",
    "        alt.value(\"steelblue\"))\n",
    ").properties(\n",
    "    width=300,\n",
    "    height=200\n",
    ")"
   ]
  },
  {
   "cell_type": "markdown",
   "metadata": {},
   "source": [
    "Here, we've used the `alt.X()` and `alt.Y()` functions to specify more detail of our x- and y-axes, in this case by giving it the `title` keyword with more descriptive titles.\n",
    "\n",
    "### Adding Text\n",
    "\n",
    "In the previous walkthrough, we wanted to highlight the \"Email\" bar and give it text. We can do this in Altair, too, using a combination of the `condition()` function we've seen before and the `mark_text` property. \n",
    "\n",
    "For this, you should also know that it is possible to *layer* charts on top of each other. In our case, we're going to layer a `mark_bar` element and a `mark_text` element on top of each other in the same chart. \n",
    "\n",
    "To do this, we're going to save our marks in *variables*. So far, we've just typed the commands directly into the command field, and the notebook has automatically rendered the result. However, we can also save it in a variable of whatever name we choose, and then have the notebook render it later when we need it to.\n",
    "\n",
    "So first, let's generate our old bar chart, and let's highlight \"Email\" using our conditional:"
   ]
  },
  {
   "cell_type": "code",
   "execution_count": 15,
   "metadata": {},
   "outputs": [],
   "source": [
    "roi_bars = alt.Chart(df).mark_bar().encode(\n",
    "    x = alt.X(\"adtype:O\", title=\"Type of Advertising\"),\n",
    "    y = alt.Y(\"roi:Q\", title=\"Return on Investment [%]\"),\n",
    "    color= alt.condition(\n",
    "        alt.datum.adtype == \"Email\", \n",
    "        alt.value(\"darkred\"),\n",
    "        alt.value(\"lightgrey\"))\n",
    ").properties(\n",
    "    width=300,\n",
    "    height=200\n",
    ")\n"
   ]
  },
  {
   "cell_type": "markdown",
   "metadata": {},
   "source": [
    "Executing that cell did not plot anything, because so far, we've only saved the chart specification in a variable, without telling the notebook to actually render it.\n",
    "\n",
    "Let's now use `mark_text` to draw our numbers:"
   ]
  },
  {
   "cell_type": "code",
   "execution_count": 40,
   "metadata": {},
   "outputs": [],
   "source": [
    "roi_text = roi_bars.mark_text(\n",
    "    align='center',\n",
    "    baseline='middle',\n",
    "    dy=-10,  # Nudges text up so it doesn't appear on top of the bar\n",
    "    color=\"darkred\"\n",
    ").encode(\n",
    "    text=\"roi:Q\",\n",
    "    opacity= alt.condition(\n",
    "        alt.datum.adtype == \"Email\", \n",
    "        alt.value(1.0),\n",
    "        alt.value(0.0))\n",
    ")"
   ]
  },
  {
   "cell_type": "code",
   "execution_count": 41,
   "metadata": {},
   "outputs": [
    {
     "data": {
      "application/javascript": [
       "var spec = {\"config\": {\"view\": {\"width\": 400, \"height\": 300}, \"mark\": {\"tooltip\": null}}, \"layer\": [{\"mark\": \"bar\", \"encoding\": {\"color\": {\"value\": \"lightgrey\", \"condition\": {\"value\": \"darkred\", \"test\": \"(datum.adtype === 'Email')\"}}, \"x\": {\"type\": \"ordinal\", \"field\": \"adtype\", \"title\": \"Type of Advertising\"}, \"y\": {\"type\": \"quantitative\", \"field\": \"roi\", \"title\": \"Return on Investment [%]\"}}, \"height\": 200, \"width\": 300}, {\"mark\": {\"type\": \"text\", \"align\": \"center\", \"baseline\": \"middle\", \"color\": \"darkred\", \"dy\": -10}, \"encoding\": {\"color\": {\"value\": \"lightgrey\", \"condition\": {\"value\": \"darkred\", \"test\": \"(datum.adtype === 'Email')\"}}, \"opacity\": {\"value\": 0.0, \"condition\": {\"value\": 1.0, \"test\": \"(datum.adtype === 'Email')\"}}, \"text\": {\"type\": \"quantitative\", \"field\": \"roi\"}, \"x\": {\"type\": \"ordinal\", \"field\": \"adtype\", \"title\": \"Type of Advertising\"}, \"y\": {\"type\": \"quantitative\", \"field\": \"roi\", \"title\": \"Return on Investment [%]\"}}, \"height\": 200, \"width\": 300}], \"data\": {\"name\": \"data-0a6c0b52e145303587c34fb1927674f0\"}, \"$schema\": \"https://vega.github.io/schema/vega-lite/v3.3.0.json\", \"datasets\": {\"data-0a6c0b52e145303587c34fb1927674f0\": [{\"adtype\": \"SEO\", \"roi\": 68.9, \"online\": \"yes\"}, {\"adtype\": \"Email\", \"roi\": 56.7, \"online\": \"yes\"}, {\"adtype\": \"PPC\", \"roi\": 52.4, \"online\": \"yes\"}, {\"adtype\": \"PR\", \"roi\": 48.5, \"online\": \"no\"}, {\"adtype\": \"Direct Mail\", \"roi\": 37.4, \"online\": \"no\"}, {\"adtype\": \"OMB\", \"roi\": 19.9, \"online\": \"yes\"}]}};\n",
       "var opt = {};\n",
       "var type = \"vega-lite\";\n",
       "var id = \"ba303d10-2512-45fa-aa19-8ad4b264bd40\";\n",
       "\n",
       "var output_area = this;\n",
       "\n",
       "require([\"nbextensions/jupyter-vega/index\"], function(vega) {\n",
       "  var target = document.createElement(\"div\");\n",
       "  target.id = id;\n",
       "  target.className = \"vega-embed\";\n",
       "\n",
       "  var style = document.createElement(\"style\");\n",
       "  style.textContent = [\n",
       "    \".vega-embed .error p {\",\n",
       "    \"  color: firebrick;\",\n",
       "    \"  font-size: 14px;\",\n",
       "    \"}\",\n",
       "  ].join(\"\\\\n\");\n",
       "\n",
       "  // element is a jQuery wrapped DOM element inside the output area\n",
       "  // see http://ipython.readthedocs.io/en/stable/api/generated/\\\n",
       "  // IPython.display.html#IPython.display.Javascript.__init__\n",
       "  element[0].appendChild(target);\n",
       "  element[0].appendChild(style);\n",
       "\n",
       "  vega.render(\"#\" + id, spec, type, opt, output_area);\n",
       "}, function (err) {\n",
       "  if (err.requireType !== \"scripterror\") {\n",
       "    throw(err);\n",
       "  }\n",
       "});\n"
      ],
      "text/plain": [
       "<vega.vegalite.VegaLite at 0x112558550>"
      ]
     },
     "metadata": {
      "jupyter-vega": "#ba303d10-2512-45fa-aa19-8ad4b264bd40"
     },
     "output_type": "display_data"
    },
    {
     "data": {
      "text/plain": []
     },
     "execution_count": 41,
     "metadata": {},
     "output_type": "execute_result"
    },
    {
     "data": {
      "image/png": "[encoded data removed]"
     },
     "metadata": {
      "jupyter-vega": "#ba303d10-2512-45fa-aa19-8ad4b264bd40"
     },
     "output_type": "display_data"
    }
   ],
   "source": [
    "roi_bars + roi_text"
   ]
  },
  {
   "cell_type": "markdown",
   "metadata": {},
   "source": [
    "That almost looks like our matplotlib plot!\n",
    "\n",
    "As a last step, we'd like to sort the bar chart by height in a descending order. We can use this by using the \"sort\" property on `alt.Y`:"
   ]
  },
  {
   "cell_type": "code",
   "execution_count": 46,
   "metadata": {},
   "outputs": [],
   "source": [
    "roi_bars = alt.Chart(df).mark_bar().encode(\n",
    "    x = alt.X(\"adtype:O\", title=\"Type of Advertising\",\n",
    "               sort = alt.EncodingSortField(\n",
    "                    field=\"roi\",  # The field to use for the sort\n",
    "                    order=\"descending\"  # The order to sort in\n",
    "        )\n",
    "\n",
    "),\n",
    "    y = alt.Y(\"roi:Q\", \n",
    "              title=\"Return on Investment [%]\"\n",
    "),\n",
    "    color= alt.condition(\n",
    "        alt.datum.adtype == \"Email\", \n",
    "        alt.value(\"darkred\"),\n",
    "        alt.value(\"lightgrey\"))\n",
    ").properties(\n",
    "    width=300,\n",
    "    height=200\n",
    ")\n",
    "\n",
    "roi_text = roi_bars.mark_text(\n",
    "    align='center',\n",
    "    baseline='middle',\n",
    "    dy=-10,  # Nudges text up so it doesn't appear on top of the bar\n",
    "    color=\"darkred\"\n",
    ").encode(\n",
    "    text=\"roi:Q\",\n",
    "    opacity= alt.condition(\n",
    "        alt.datum.adtype == \"Email\", \n",
    "        alt.value(1.0),\n",
    "        alt.value(0.0))\n",
    ")\n"
   ]
  },
  {
   "cell_type": "code",
   "execution_count": 47,
   "metadata": {},
   "outputs": [
    {
     "data": {
      "application/javascript": [
       "var spec = {\"config\": {\"view\": {\"width\": 400, \"height\": 300}, \"mark\": {\"tooltip\": null}}, \"layer\": [{\"mark\": \"bar\", \"encoding\": {\"color\": {\"value\": \"lightgrey\", \"condition\": {\"value\": \"darkred\", \"test\": \"(datum.adtype === 'Email')\"}}, \"x\": {\"type\": \"ordinal\", \"field\": \"adtype\", \"sort\": {\"field\": \"roi\", \"order\": \"descending\"}, \"title\": \"Type of Advertising\"}, \"y\": {\"type\": \"quantitative\", \"field\": \"roi\", \"title\": \"Return on Investment [%]\"}}, \"height\": 200, \"width\": 300}, {\"mark\": {\"type\": \"text\", \"align\": \"center\", \"baseline\": \"middle\", \"color\": \"darkred\", \"dy\": -10}, \"encoding\": {\"color\": {\"value\": \"lightgrey\", \"condition\": {\"value\": \"darkred\", \"test\": \"(datum.adtype === 'Email')\"}}, \"opacity\": {\"value\": 0.0, \"condition\": {\"value\": 1.0, \"test\": \"(datum.adtype === 'Email')\"}}, \"text\": {\"type\": \"quantitative\", \"field\": \"roi\"}, \"x\": {\"type\": \"ordinal\", \"field\": \"adtype\", \"sort\": {\"field\": \"roi\", \"order\": \"descending\"}, \"title\": \"Type of Advertising\"}, \"y\": {\"type\": \"quantitative\", \"field\": \"roi\", \"title\": \"Return on Investment [%]\"}}, \"height\": 200, \"width\": 300}], \"data\": {\"name\": \"data-0a6c0b52e145303587c34fb1927674f0\"}, \"$schema\": \"https://vega.github.io/schema/vega-lite/v3.3.0.json\", \"datasets\": {\"data-0a6c0b52e145303587c34fb1927674f0\": [{\"adtype\": \"SEO\", \"roi\": 68.9, \"online\": \"yes\"}, {\"adtype\": \"Email\", \"roi\": 56.7, \"online\": \"yes\"}, {\"adtype\": \"PPC\", \"roi\": 52.4, \"online\": \"yes\"}, {\"adtype\": \"PR\", \"roi\": 48.5, \"online\": \"no\"}, {\"adtype\": \"Direct Mail\", \"roi\": 37.4, \"online\": \"no\"}, {\"adtype\": \"OMB\", \"roi\": 19.9, \"online\": \"yes\"}]}};\n",
       "var opt = {};\n",
       "var type = \"vega-lite\";\n",
       "var id = \"8c3a7d7f-86d6-4242-ba5d-50ae07e671f8\";\n",
       "\n",
       "var output_area = this;\n",
       "\n",
       "require([\"nbextensions/jupyter-vega/index\"], function(vega) {\n",
       "  var target = document.createElement(\"div\");\n",
       "  target.id = id;\n",
       "  target.className = \"vega-embed\";\n",
       "\n",
       "  var style = document.createElement(\"style\");\n",
       "  style.textContent = [\n",
       "    \".vega-embed .error p {\",\n",
       "    \"  color: firebrick;\",\n",
       "    \"  font-size: 14px;\",\n",
       "    \"}\",\n",
       "  ].join(\"\\\\n\");\n",
       "\n",
       "  // element is a jQuery wrapped DOM element inside the output area\n",
       "  // see http://ipython.readthedocs.io/en/stable/api/generated/\\\n",
       "  // IPython.display.html#IPython.display.Javascript.__init__\n",
       "  element[0].appendChild(target);\n",
       "  element[0].appendChild(style);\n",
       "\n",
       "  vega.render(\"#\" + id, spec, type, opt, output_area);\n",
       "}, function (err) {\n",
       "  if (err.requireType !== \"scripterror\") {\n",
       "    throw(err);\n",
       "  }\n",
       "});\n"
      ],
      "text/plain": [
       "<vega.vegalite.VegaLite at 0x112558e10>"
      ]
     },
     "metadata": {
      "jupyter-vega": "#8c3a7d7f-86d6-4242-ba5d-50ae07e671f8"
     },
     "output_type": "display_data"
    },
    {
     "data": {
      "text/plain": []
     },
     "execution_count": 47,
     "metadata": {},
     "output_type": "execute_result"
    },
    {
     "data": {
      "image/png": "[encoded data removed]"
     },
     "metadata": {
      "jupyter-vega": "#8c3a7d7f-86d6-4242-ba5d-50ae07e671f8"
     },
     "output_type": "display_data"
    }
   ],
   "source": [
    "roi_bars + roi_text"
   ]
  },
  {
   "cell_type": "markdown",
   "metadata": {},
   "source": [
    "Allright, that looks pretty similar to our matplotlib version. \n",
    "\n",
    "However, one of the great things about altair is that it's pretty easy to include interactivity. For a simple \n",
    "zooming functionality, all you need to do is add `.interactive()`:"
   ]
  },
  {
   "cell_type": "code",
   "execution_count": 48,
   "metadata": {},
   "outputs": [
    {
     "data": {
      "application/javascript": [
       "var spec = {\"config\": {\"view\": {\"width\": 400, \"height\": 300}, \"mark\": {\"tooltip\": null}}, \"layer\": [{\"mark\": \"bar\", \"encoding\": {\"color\": {\"value\": \"lightgrey\", \"condition\": {\"value\": \"darkred\", \"test\": \"(datum.adtype === 'Email')\"}}, \"x\": {\"type\": \"ordinal\", \"field\": \"adtype\", \"sort\": {\"field\": \"roi\", \"order\": \"descending\"}, \"title\": \"Type of Advertising\"}, \"y\": {\"type\": \"quantitative\", \"field\": \"roi\", \"title\": \"Return on Investment [%]\"}}, \"height\": 200, \"selection\": {\"selector001\": {\"type\": \"interval\", \"bind\": \"scales\", \"encodings\": [\"x\", \"y\"]}}, \"width\": 300}, {\"mark\": {\"type\": \"text\", \"align\": \"center\", \"baseline\": \"middle\", \"color\": \"darkred\", \"dy\": -10}, \"encoding\": {\"color\": {\"value\": \"lightgrey\", \"condition\": {\"value\": \"darkred\", \"test\": \"(datum.adtype === 'Email')\"}}, \"opacity\": {\"value\": 0.0, \"condition\": {\"value\": 1.0, \"test\": \"(datum.adtype === 'Email')\"}}, \"text\": {\"type\": \"quantitative\", \"field\": \"roi\"}, \"x\": {\"type\": \"ordinal\", \"field\": \"adtype\", \"sort\": {\"field\": \"roi\", \"order\": \"descending\"}, \"title\": \"Type of Advertising\"}, \"y\": {\"type\": \"quantitative\", \"field\": \"roi\", \"title\": \"Return on Investment [%]\"}}, \"height\": 200, \"width\": 300}], \"data\": {\"name\": \"data-0a6c0b52e145303587c34fb1927674f0\"}, \"$schema\": \"https://vega.github.io/schema/vega-lite/v3.3.0.json\", \"datasets\": {\"data-0a6c0b52e145303587c34fb1927674f0\": [{\"adtype\": \"SEO\", \"roi\": 68.9, \"online\": \"yes\"}, {\"adtype\": \"Email\", \"roi\": 56.7, \"online\": \"yes\"}, {\"adtype\": \"PPC\", \"roi\": 52.4, \"online\": \"yes\"}, {\"adtype\": \"PR\", \"roi\": 48.5, \"online\": \"no\"}, {\"adtype\": \"Direct Mail\", \"roi\": 37.4, \"online\": \"no\"}, {\"adtype\": \"OMB\", \"roi\": 19.9, \"online\": \"yes\"}]}};\n",
       "var opt = {};\n",
       "var type = \"vega-lite\";\n",
       "var id = \"8a4c5af8-e11f-4457-8f42-c466f4193a80\";\n",
       "\n",
       "var output_area = this;\n",
       "\n",
       "require([\"nbextensions/jupyter-vega/index\"], function(vega) {\n",
       "  var target = document.createElement(\"div\");\n",
       "  target.id = id;\n",
       "  target.className = \"vega-embed\";\n",
       "\n",
       "  var style = document.createElement(\"style\");\n",
       "  style.textContent = [\n",
       "    \".vega-embed .error p {\",\n",
       "    \"  color: firebrick;\",\n",
       "    \"  font-size: 14px;\",\n",
       "    \"}\",\n",
       "  ].join(\"\\\\n\");\n",
       "\n",
       "  // element is a jQuery wrapped DOM element inside the output area\n",
       "  // see http://ipython.readthedocs.io/en/stable/api/generated/\\\n",
       "  // IPython.display.html#IPython.display.Javascript.__init__\n",
       "  element[0].appendChild(target);\n",
       "  element[0].appendChild(style);\n",
       "\n",
       "  vega.render(\"#\" + id, spec, type, opt, output_area);\n",
       "}, function (err) {\n",
       "  if (err.requireType !== \"scripterror\") {\n",
       "    throw(err);\n",
       "  }\n",
       "});\n"
      ],
      "text/plain": [
       "<vega.vegalite.VegaLite at 0x1126269b0>"
      ]
     },
     "metadata": {
      "jupyter-vega": "#8a4c5af8-e11f-4457-8f42-c466f4193a80"
     },
     "output_type": "display_data"
    },
    {
     "data": {
      "text/plain": []
     },
     "execution_count": 48,
     "metadata": {},
     "output_type": "execute_result"
    },
    {
     "data": {
      "image/png": "[encoded data removed]"
     },
     "metadata": {
      "jupyter-vega": "#8a4c5af8-e11f-4457-8f42-c466f4193a80"
     },
     "output_type": "display_data"
    }
   ],
   "source": [
    "(roi_bars + roi_text).interactive()"
   ]
  },
  {
   "cell_type": "markdown",
   "metadata": {},
   "source": [
    "Granted, zooming around in a bar chart isn't particularly satisfying, so let's do something more fun.\n",
    "For example, perhaps we don't want to highlight the bar labelled \"E-mail\", but highlight a bar whenever someone clicks on it.\n",
    "\n",
    "You can implement that using the `selection` function. We'll use the \"selection\" function to determine the colour:"
   ]
  },
  {
   "cell_type": "code",
   "execution_count": 62,
   "metadata": {},
   "outputs": [
    {
     "data": {
      "application/javascript": [
       "var spec = {\"config\": {\"view\": {\"width\": 400, \"height\": 300}, \"mark\": {\"tooltip\": null}}, \"data\": {\"name\": \"data-0a6c0b52e145303587c34fb1927674f0\"}, \"mark\": \"bar\", \"encoding\": {\"color\": {\"value\": \"lightgrey\", \"condition\": {\"value\": \"darkred\", \"selection\": \"selector018\"}}, \"x\": {\"type\": \"ordinal\", \"field\": \"adtype\", \"sort\": {\"field\": \"roi\", \"order\": \"descending\"}, \"title\": \"Type of Advertising\"}, \"y\": {\"type\": \"quantitative\", \"field\": \"roi\", \"title\": \"Return on Investment [%]\"}}, \"height\": 200, \"selection\": {\"selector018\": {\"type\": \"single\", \"empty\": \"none\"}}, \"width\": 300, \"$schema\": \"https://vega.github.io/schema/vega-lite/v3.3.0.json\", \"datasets\": {\"data-0a6c0b52e145303587c34fb1927674f0\": [{\"adtype\": \"SEO\", \"roi\": 68.9, \"online\": \"yes\"}, {\"adtype\": \"Email\", \"roi\": 56.7, \"online\": \"yes\"}, {\"adtype\": \"PPC\", \"roi\": 52.4, \"online\": \"yes\"}, {\"adtype\": \"PR\", \"roi\": 48.5, \"online\": \"no\"}, {\"adtype\": \"Direct Mail\", \"roi\": 37.4, \"online\": \"no\"}, {\"adtype\": \"OMB\", \"roi\": 19.9, \"online\": \"yes\"}]}};\n",
       "var opt = {};\n",
       "var type = \"vega-lite\";\n",
       "var id = \"80baf538-4fe2-4faf-a031-c60daecc1022\";\n",
       "\n",
       "var output_area = this;\n",
       "\n",
       "require([\"nbextensions/jupyter-vega/index\"], function(vega) {\n",
       "  var target = document.createElement(\"div\");\n",
       "  target.id = id;\n",
       "  target.className = \"vega-embed\";\n",
       "\n",
       "  var style = document.createElement(\"style\");\n",
       "  style.textContent = [\n",
       "    \".vega-embed .error p {\",\n",
       "    \"  color: firebrick;\",\n",
       "    \"  font-size: 14px;\",\n",
       "    \"}\",\n",
       "  ].join(\"\\\\n\");\n",
       "\n",
       "  // element is a jQuery wrapped DOM element inside the output area\n",
       "  // see http://ipython.readthedocs.io/en/stable/api/generated/\\\n",
       "  // IPython.display.html#IPython.display.Javascript.__init__\n",
       "  element[0].appendChild(target);\n",
       "  element[0].appendChild(style);\n",
       "\n",
       "  vega.render(\"#\" + id, spec, type, opt, output_area);\n",
       "}, function (err) {\n",
       "  if (err.requireType !== \"scripterror\") {\n",
       "    throw(err);\n",
       "  }\n",
       "});\n"
      ],
      "text/plain": [
       "<vega.vegalite.VegaLite at 0x1126e0a20>"
      ]
     },
     "metadata": {
      "jupyter-vega": "#80baf538-4fe2-4faf-a031-c60daecc1022"
     },
     "output_type": "display_data"
    },
    {
     "data": {
      "text/plain": []
     },
     "execution_count": 62,
     "metadata": {},
     "output_type": "execute_result"
    },
    {
     "data": {
      "image/png": "[encoded data removed]"
     },
     "metadata": {
      "jupyter-vega": "#80baf538-4fe2-4faf-a031-c60daecc1022"
     },
     "output_type": "display_data"
    }
   ],
   "source": [
    "# define a selector of type \"single\" (only a single element active at a time)\n",
    "# and define what behavious it should do if nothing is clicked:\n",
    "# if \"all\" is selected, all bars will be dark red by default until you click on one\n",
    "# if \"none\" is selected, all bars will be lightgrey until you click on one\n",
    "selector = alt.selection(type=\"single\", empty='none')\n",
    "\n",
    "roi_bars = alt.Chart(df).mark_bar().encode(\n",
    "    x = alt.X(\"adtype:O\", title=\"Type of Advertising\",\n",
    "               sort = alt.EncodingSortField(\n",
    "                    field=\"roi\",\n",
    "                    order=\"descending\"\n",
    "        )\n",
    "),\n",
    "    y = alt.Y(\"roi:Q\", \n",
    "              title=\"Return on Investment [%]\"\n",
    "),\n",
    "    color= alt.condition(\n",
    "        selector, # replace the previous condition with the selector\n",
    "        alt.value(\"darkred\"),\n",
    "        alt.value(\"lightgrey\"))\n",
    ").add_selection(\n",
    "    selector  # Add the selector here so that the chart knows to use it\n",
    ").properties(\n",
    "    width=300,\n",
    "    height=200\n",
    ")\n",
    "\n",
    "roi_bars"
   ]
  },
  {
   "cell_type": "markdown",
   "metadata": {},
   "source": [
    "Clicking on each bar should highlight that bar in red.\n",
    "\n",
    "We can also do an interval selection, where you drag a window and it will mark all \n",
    "bars within that window:"
   ]
  },
  {
   "cell_type": "code",
   "execution_count": 65,
   "metadata": {},
   "outputs": [
    {
     "data": {
      "application/javascript": [
       "var spec = {\"config\": {\"view\": {\"width\": 400, \"height\": 300}, \"mark\": {\"tooltip\": null}}, \"data\": {\"name\": \"data-0a6c0b52e145303587c34fb1927674f0\"}, \"mark\": \"bar\", \"encoding\": {\"color\": {\"value\": \"lightgrey\", \"condition\": {\"value\": \"darkred\", \"selection\": \"selector021\"}}, \"x\": {\"type\": \"ordinal\", \"field\": \"adtype\", \"sort\": {\"field\": \"roi\", \"order\": \"descending\"}, \"title\": \"Type of Advertising\"}, \"y\": {\"type\": \"quantitative\", \"field\": \"roi\", \"title\": \"Return on Investment [%]\"}}, \"height\": 200, \"selection\": {\"selector021\": {\"type\": \"interval\", \"empty\": \"none\", \"encodings\": [\"x\"]}}, \"width\": 300, \"$schema\": \"https://vega.github.io/schema/vega-lite/v3.3.0.json\", \"datasets\": {\"data-0a6c0b52e145303587c34fb1927674f0\": [{\"adtype\": \"SEO\", \"roi\": 68.9, \"online\": \"yes\"}, {\"adtype\": \"Email\", \"roi\": 56.7, \"online\": \"yes\"}, {\"adtype\": \"PPC\", \"roi\": 52.4, \"online\": \"yes\"}, {\"adtype\": \"PR\", \"roi\": 48.5, \"online\": \"no\"}, {\"adtype\": \"Direct Mail\", \"roi\": 37.4, \"online\": \"no\"}, {\"adtype\": \"OMB\", \"roi\": 19.9, \"online\": \"yes\"}]}};\n",
       "var opt = {};\n",
       "var type = \"vega-lite\";\n",
       "var id = \"391c0145-09d9-4f73-95e7-81f0d56c53d2\";\n",
       "\n",
       "var output_area = this;\n",
       "\n",
       "require([\"nbextensions/jupyter-vega/index\"], function(vega) {\n",
       "  var target = document.createElement(\"div\");\n",
       "  target.id = id;\n",
       "  target.className = \"vega-embed\";\n",
       "\n",
       "  var style = document.createElement(\"style\");\n",
       "  style.textContent = [\n",
       "    \".vega-embed .error p {\",\n",
       "    \"  color: firebrick;\",\n",
       "    \"  font-size: 14px;\",\n",
       "    \"}\",\n",
       "  ].join(\"\\\\n\");\n",
       "\n",
       "  // element is a jQuery wrapped DOM element inside the output area\n",
       "  // see http://ipython.readthedocs.io/en/stable/api/generated/\\\n",
       "  // IPython.display.html#IPython.display.Javascript.__init__\n",
       "  element[0].appendChild(target);\n",
       "  element[0].appendChild(style);\n",
       "\n",
       "  vega.render(\"#\" + id, spec, type, opt, output_area);\n",
       "}, function (err) {\n",
       "  if (err.requireType !== \"scripterror\") {\n",
       "    throw(err);\n",
       "  }\n",
       "});\n"
      ],
      "text/plain": [
       "<vega.vegalite.VegaLite at 0x1126f3da0>"
      ]
     },
     "metadata": {
      "jupyter-vega": "#391c0145-09d9-4f73-95e7-81f0d56c53d2"
     },
     "output_type": "display_data"
    },
    {
     "data": {
      "text/plain": []
     },
     "execution_count": 65,
     "metadata": {},
     "output_type": "execute_result"
    },
    {
     "data": {
      "image/png": "[encoded data removed]"
     },
     "metadata": {
      "jupyter-vega": "#391c0145-09d9-4f73-95e7-81f0d56c53d2"
     },
     "output_type": "display_data"
    }
   ],
   "source": [
    "brush = alt.selection(type=\"interval\", empty=\"none\", encodings=['x'])\n",
    "\n",
    "\n",
    "roi_bars = alt.Chart(df).mark_bar().encode(\n",
    "    x = alt.X(\"adtype:O\", title=\"Type of Advertising\",\n",
    "               sort = alt.EncodingSortField(\n",
    "                    field=\"roi\",\n",
    "                    order=\"descending\"\n",
    "        )\n",
    "),\n",
    "    y = alt.Y(\"roi:Q\", \n",
    "              title=\"Return on Investment [%]\"\n",
    "),\n",
    "    color= alt.condition(\n",
    "        brush, # replace the previous condition with the selector\n",
    "        alt.value(\"darkred\"),\n",
    "        alt.value(\"lightgrey\"))\n",
    ").add_selection(\n",
    "    brush  # Add the selector here so that the chart knows to use it\n",
    ").properties(\n",
    "    width=300,\n",
    "    height=200\n",
    ")\n",
    "\n",
    "roi_bars"
   ]
  },
  {
   "cell_type": "markdown",
   "metadata": {},
   "source": [
    "This should allow you to drag your mouse across the chart and highlight bars. The `encodings` keyword in the `brush` function binds the rectangle to the x-axis (that is, you can only select along the x-axis, while you always select all of the y-axis). \n",
    "\n",
    "**Exercise**: Try leaving out the `encodings` keyword or changing it to `y`. What happens?\n",
    "\n",
    "We can also have it highlight a bar when we just run our mouse over it, without clicking. For that, we're going to use our single selection again:"
   ]
  },
  {
   "cell_type": "code",
   "execution_count": 69,
   "metadata": {},
   "outputs": [
    {
     "data": {
      "application/javascript": [
       "var spec = {\"config\": {\"view\": {\"width\": 400, \"height\": 300}, \"mark\": {\"tooltip\": null}}, \"data\": {\"name\": \"data-0a6c0b52e145303587c34fb1927674f0\"}, \"mark\": \"bar\", \"encoding\": {\"color\": {\"value\": \"lightgrey\", \"condition\": {\"value\": \"darkred\", \"selection\": \"selector025\"}}, \"x\": {\"type\": \"ordinal\", \"field\": \"adtype\", \"sort\": {\"field\": \"roi\", \"order\": \"descending\"}, \"title\": \"Type of Advertising\"}, \"y\": {\"type\": \"quantitative\", \"field\": \"roi\", \"title\": \"Return on Investment [%]\"}}, \"height\": 200, \"selection\": {\"selector025\": {\"type\": \"single\", \"empty\": \"none\", \"on\": \"mouseover\"}}, \"width\": 300, \"$schema\": \"https://vega.github.io/schema/vega-lite/v3.3.0.json\", \"datasets\": {\"data-0a6c0b52e145303587c34fb1927674f0\": [{\"adtype\": \"SEO\", \"roi\": 68.9, \"online\": \"yes\"}, {\"adtype\": \"Email\", \"roi\": 56.7, \"online\": \"yes\"}, {\"adtype\": \"PPC\", \"roi\": 52.4, \"online\": \"yes\"}, {\"adtype\": \"PR\", \"roi\": 48.5, \"online\": \"no\"}, {\"adtype\": \"Direct Mail\", \"roi\": 37.4, \"online\": \"no\"}, {\"adtype\": \"OMB\", \"roi\": 19.9, \"online\": \"yes\"}]}};\n",
       "var opt = {};\n",
       "var type = \"vega-lite\";\n",
       "var id = \"9b786f16-0855-4186-94c3-3c8af28444ab\";\n",
       "\n",
       "var output_area = this;\n",
       "\n",
       "require([\"nbextensions/jupyter-vega/index\"], function(vega) {\n",
       "  var target = document.createElement(\"div\");\n",
       "  target.id = id;\n",
       "  target.className = \"vega-embed\";\n",
       "\n",
       "  var style = document.createElement(\"style\");\n",
       "  style.textContent = [\n",
       "    \".vega-embed .error p {\",\n",
       "    \"  color: firebrick;\",\n",
       "    \"  font-size: 14px;\",\n",
       "    \"}\",\n",
       "  ].join(\"\\\\n\");\n",
       "\n",
       "  // element is a jQuery wrapped DOM element inside the output area\n",
       "  // see http://ipython.readthedocs.io/en/stable/api/generated/\\\n",
       "  // IPython.display.html#IPython.display.Javascript.__init__\n",
       "  element[0].appendChild(target);\n",
       "  element[0].appendChild(style);\n",
       "\n",
       "  vega.render(\"#\" + id, spec, type, opt, output_area);\n",
       "}, function (err) {\n",
       "  if (err.requireType !== \"scripterror\") {\n",
       "    throw(err);\n",
       "  }\n",
       "});\n"
      ],
      "text/plain": [
       "<vega.vegalite.VegaLite at 0x1126206d8>"
      ]
     },
     "metadata": {
      "jupyter-vega": "#9b786f16-0855-4186-94c3-3c8af28444ab"
     },
     "output_type": "display_data"
    },
    {
     "data": {
      "text/plain": []
     },
     "execution_count": 69,
     "metadata": {},
     "output_type": "execute_result"
    },
    {
     "data": {
      "image/png": "[encoded data removed]"
     },
     "metadata": {
      "jupyter-vega": "#9b786f16-0855-4186-94c3-3c8af28444ab"
     },
     "output_type": "display_data"
    }
   ],
   "source": [
    "# define a selector of type \"single\" (only a single element active at a time)\n",
    "# and define what behavious it should do if nothing is clicked:\n",
    "# if \"all\" is selected, all bars will be dark red by default until you click on one\n",
    "# if \"none\" is selected, all bars will be lightgrey until you click on one\n",
    "selector = alt.selection(type=\"single\", empty='none', on='mouseover')\n",
    "\n",
    "roi_bars = alt.Chart(df).mark_bar().encode(\n",
    "    x = alt.X(\"adtype:O\", title=\"Type of Advertising\",\n",
    "               sort = alt.EncodingSortField(\n",
    "                    field=\"roi\",\n",
    "                    order=\"descending\"\n",
    "        )\n",
    "),\n",
    "    y = alt.Y(\"roi:Q\", \n",
    "              title=\"Return on Investment [%]\"\n",
    "),\n",
    "    color= alt.condition(\n",
    "        selector, # replace the previous condition with the selector\n",
    "        alt.value(\"darkred\"),\n",
    "        alt.value(\"lightgrey\"))\n",
    ").add_selection(\n",
    "    selector  # Add the selector here so that the chart knows to use it\n",
    ").properties(\n",
    "    width=300,\n",
    "    height=200\n",
    ")\n",
    "\n",
    "roi_bars"
   ]
  },
  {
   "cell_type": "markdown",
   "metadata": {},
   "source": [
    "Maybe a useful thing would be if the plot also displayed some information every time you mouse over a bar. You can do this by adding a `tooltip` attribute to your `encode` method:"
   ]
  },
  {
   "cell_type": "code",
   "execution_count": 75,
   "metadata": {},
   "outputs": [
    {
     "data": {
      "application/javascript": [
       "var spec = {\"config\": {\"view\": {\"width\": 400, \"height\": 300}, \"mark\": {\"tooltip\": null}}, \"data\": {\"name\": \"data-0a6c0b52e145303587c34fb1927674f0\"}, \"mark\": \"bar\", \"encoding\": {\"color\": {\"value\": \"lightgrey\", \"condition\": {\"value\": \"darkred\", \"selection\": \"selector031\"}}, \"tooltip\": [{\"type\": \"quantitative\", \"field\": \"roi\"}, {\"type\": \"nominal\", \"field\": \"online\"}], \"x\": {\"type\": \"ordinal\", \"field\": \"adtype\", \"sort\": {\"field\": \"roi\", \"order\": \"descending\"}, \"title\": \"Type of Advertising\"}, \"y\": {\"type\": \"quantitative\", \"field\": \"roi\", \"title\": \"Return on Investment [%]\"}}, \"height\": 200, \"selection\": {\"selector031\": {\"type\": \"single\", \"empty\": \"none\", \"on\": \"mouseover\"}}, \"width\": 300, \"$schema\": \"https://vega.github.io/schema/vega-lite/v3.3.0.json\", \"datasets\": {\"data-0a6c0b52e145303587c34fb1927674f0\": [{\"adtype\": \"SEO\", \"roi\": 68.9, \"online\": \"yes\"}, {\"adtype\": \"Email\", \"roi\": 56.7, \"online\": \"yes\"}, {\"adtype\": \"PPC\", \"roi\": 52.4, \"online\": \"yes\"}, {\"adtype\": \"PR\", \"roi\": 48.5, \"online\": \"no\"}, {\"adtype\": \"Direct Mail\", \"roi\": 37.4, \"online\": \"no\"}, {\"adtype\": \"OMB\", \"roi\": 19.9, \"online\": \"yes\"}]}};\n",
       "var opt = {};\n",
       "var type = \"vega-lite\";\n",
       "var id = \"99dc4056-0800-49a3-a668-3313bd8cfabd\";\n",
       "\n",
       "var output_area = this;\n",
       "\n",
       "require([\"nbextensions/jupyter-vega/index\"], function(vega) {\n",
       "  var target = document.createElement(\"div\");\n",
       "  target.id = id;\n",
       "  target.className = \"vega-embed\";\n",
       "\n",
       "  var style = document.createElement(\"style\");\n",
       "  style.textContent = [\n",
       "    \".vega-embed .error p {\",\n",
       "    \"  color: firebrick;\",\n",
       "    \"  font-size: 14px;\",\n",
       "    \"}\",\n",
       "  ].join(\"\\\\n\");\n",
       "\n",
       "  // element is a jQuery wrapped DOM element inside the output area\n",
       "  // see http://ipython.readthedocs.io/en/stable/api/generated/\\\n",
       "  // IPython.display.html#IPython.display.Javascript.__init__\n",
       "  element[0].appendChild(target);\n",
       "  element[0].appendChild(style);\n",
       "\n",
       "  vega.render(\"#\" + id, spec, type, opt, output_area);\n",
       "}, function (err) {\n",
       "  if (err.requireType !== \"scripterror\") {\n",
       "    throw(err);\n",
       "  }\n",
       "});\n"
      ],
      "text/plain": [
       "<vega.vegalite.VegaLite at 0x1126e0cc0>"
      ]
     },
     "metadata": {
      "jupyter-vega": "#99dc4056-0800-49a3-a668-3313bd8cfabd"
     },
     "output_type": "display_data"
    },
    {
     "data": {
      "text/plain": []
     },
     "execution_count": 75,
     "metadata": {},
     "output_type": "execute_result"
    },
    {
     "data": {
      "image/png": "[encoded data removed]"
     },
     "metadata": {
      "jupyter-vega": "#99dc4056-0800-49a3-a668-3313bd8cfabd"
     },
     "output_type": "display_data"
    }
   ],
   "source": [
    "selector = alt.selection(type=\"single\", empty='none', on='mouseover')\n",
    "\n",
    "roi_bars = alt.Chart(df).mark_bar().encode(\n",
    "    x = alt.X(\"adtype:O\", title=\"Type of Advertising\",\n",
    "               sort = alt.EncodingSortField(\n",
    "                    field=\"roi\",\n",
    "                    order=\"descending\"\n",
    "        )\n",
    "),\n",
    "    y = alt.Y(\"roi:Q\", \n",
    "              title=\"Return on Investment [%]\"\n",
    "),\n",
    "    color= alt.condition(\n",
    "        selector, \n",
    "        alt.value(\"darkred\"),\n",
    "        alt.value(\"lightgrey\")),\n",
    "        tooltip=[\"roi\", \"online\"] # display ROI and online properties on mouseover\n",
    ").add_selection(\n",
    "    selector\n",
    ").properties(\n",
    "    width=300,\n",
    "    height=200\n",
    ")\n",
    "\n",
    "roi_bars"
   ]
  },
  {
   "cell_type": "markdown",
   "metadata": {},
   "source": [
    "In the last step, let's make a plot with two panels! \n",
    "\n",
    "For this, we're going to invent another data sets: for each of our types of advertising, \n",
    "we're going to invent a cost in millions of dollars for a hypothetical company. \n",
    "Presumably, even though something has a high ROI, it might still not be feasible if it \n",
    "costs more than a company can afford. \n",
    "\n",
    "Let's come up with some values:"
   ]
  },
  {
   "cell_type": "code",
   "execution_count": 77,
   "metadata": {},
   "outputs": [
    {
     "data": {
      "text/plain": [
       "0            SEO\n",
       "1          Email\n",
       "2            PPC\n",
       "3             PR\n",
       "4    Direct Mail\n",
       "5            OMB\n",
       "Name: adtype, dtype: object"
      ]
     },
     "execution_count": 77,
     "metadata": {},
     "output_type": "execute_result"
    }
   ],
   "source": [
    "df.adtype"
   ]
  },
  {
   "cell_type": "code",
   "execution_count": 78,
   "metadata": {},
   "outputs": [],
   "source": [
    "costs = [1.2, 0.4, 1.5, 2.2, 8.7, 0.3]\n",
    "\n",
    "df[\"costs\"] = costs"
   ]
  },
  {
   "cell_type": "markdown",
   "metadata": {},
   "source": [
    "We are now going to make two bar charts, and then link them together. Let's do this first without all the fancy formatting for clarity:"
   ]
  },
  {
   "cell_type": "code",
   "execution_count": 84,
   "metadata": {},
   "outputs": [
    {
     "data": {
      "application/javascript": [
       "var spec = {\"config\": {\"view\": {\"width\": 400, \"height\": 300}, \"mark\": {\"tooltip\": null}}, \"hconcat\": [{\"mark\": \"bar\", \"encoding\": {\"x\": {\"type\": \"nominal\", \"field\": \"adtype\"}, \"y\": {\"type\": \"quantitative\", \"field\": \"roi\"}}, \"height\": 200, \"width\": 300}, {\"mark\": \"bar\", \"encoding\": {\"x\": {\"type\": \"nominal\", \"field\": \"adtype\"}, \"y\": {\"type\": \"quantitative\", \"field\": \"costs\"}}, \"height\": 200, \"width\": 300}], \"data\": {\"name\": \"data-e0cfff88ee0e2b9c126f9c4df50d5f72\"}, \"$schema\": \"https://vega.github.io/schema/vega-lite/v3.3.0.json\", \"datasets\": {\"data-e0cfff88ee0e2b9c126f9c4df50d5f72\": [{\"adtype\": \"SEO\", \"roi\": 68.9, \"online\": \"yes\", \"costs\": 1.2}, {\"adtype\": \"Email\", \"roi\": 56.7, \"online\": \"yes\", \"costs\": 0.4}, {\"adtype\": \"PPC\", \"roi\": 52.4, \"online\": \"yes\", \"costs\": 1.5}, {\"adtype\": \"PR\", \"roi\": 48.5, \"online\": \"no\", \"costs\": 2.2}, {\"adtype\": \"Direct Mail\", \"roi\": 37.4, \"online\": \"no\", \"costs\": 8.7}, {\"adtype\": \"OMB\", \"roi\": 19.9, \"online\": \"yes\", \"costs\": 0.3}]}};\n",
       "var opt = {};\n",
       "var type = \"vega-lite\";\n",
       "var id = \"97c8e2c8-698a-4b04-a6b7-a19509627e2b\";\n",
       "\n",
       "var output_area = this;\n",
       "\n",
       "require([\"nbextensions/jupyter-vega/index\"], function(vega) {\n",
       "  var target = document.createElement(\"div\");\n",
       "  target.id = id;\n",
       "  target.className = \"vega-embed\";\n",
       "\n",
       "  var style = document.createElement(\"style\");\n",
       "  style.textContent = [\n",
       "    \".vega-embed .error p {\",\n",
       "    \"  color: firebrick;\",\n",
       "    \"  font-size: 14px;\",\n",
       "    \"}\",\n",
       "  ].join(\"\\\\n\");\n",
       "\n",
       "  // element is a jQuery wrapped DOM element inside the output area\n",
       "  // see http://ipython.readthedocs.io/en/stable/api/generated/\\\n",
       "  // IPython.display.html#IPython.display.Javascript.__init__\n",
       "  element[0].appendChild(target);\n",
       "  element[0].appendChild(style);\n",
       "\n",
       "  vega.render(\"#\" + id, spec, type, opt, output_area);\n",
       "}, function (err) {\n",
       "  if (err.requireType !== \"scripterror\") {\n",
       "    throw(err);\n",
       "  }\n",
       "});\n"
      ],
      "text/plain": [
       "<vega.vegalite.VegaLite at 0x112687668>"
      ]
     },
     "metadata": {
      "jupyter-vega": "#97c8e2c8-698a-4b04-a6b7-a19509627e2b"
     },
     "output_type": "display_data"
    },
    {
     "data": {
      "text/plain": []
     },
     "execution_count": 84,
     "metadata": {},
     "output_type": "execute_result"
    },
    {
     "data": {
      "image/png": "[encoded data removed]"
     },
     "metadata": {
      "jupyter-vega": "#97c8e2c8-698a-4b04-a6b7-a19509627e2b"
     },
     "output_type": "display_data"
    }
   ],
   "source": [
    "base_chart = alt.Chart(df).mark_bar().encode(\n",
    "    x = alt.X(\"adtype\")\n",
    ").properties(\n",
    "    width=300,\n",
    "    height=200\n",
    ")\n",
    "\n",
    "base_chart.encode(y=alt.Y(\"roi\")) | base_chart.encode(y=alt.Y(\"costs\"))"
   ]
  },
  {
   "cell_type": "markdown",
   "metadata": {},
   "source": [
    "Making multi-panel plots is as simple as doing something like `Chart1 | Chart2`: the `|` symbol tells altair that it should make a two-panel plot. For a vertically stacked multi-panel chart, you can use the `&` symbol. \n",
    "\n",
    "We now want to add our properties and selections back in, and we want to make sure the same is selected on both sides:"
   ]
  },
  {
   "cell_type": "code",
   "execution_count": 86,
   "metadata": {},
   "outputs": [
    {
     "data": {
      "application/javascript": [
       "var spec = {\"config\": {\"view\": {\"width\": 400, \"height\": 300}, \"mark\": {\"tooltip\": null}}, \"hconcat\": [{\"mark\": \"bar\", \"encoding\": {\"color\": {\"value\": \"lightgrey\", \"condition\": {\"value\": \"darkred\", \"selection\": \"selector033\"}}, \"tooltip\": [{\"type\": \"quantitative\", \"field\": \"roi\"}, {\"type\": \"quantitative\", \"field\": \"costs\"}, {\"type\": \"nominal\", \"field\": \"online\"}], \"x\": {\"type\": \"ordinal\", \"field\": \"adtype\", \"sort\": {\"field\": \"roi\", \"order\": \"descending\"}, \"title\": \"Type of Advertising\"}, \"y\": {\"type\": \"quantitative\", \"field\": \"roi\", \"title\": \"Return on Investment [%]\"}}, \"height\": 200, \"selection\": {\"selector033\": {\"type\": \"single\", \"empty\": \"none\", \"on\": \"click\"}}, \"width\": 300}, {\"mark\": \"bar\", \"encoding\": {\"color\": {\"value\": \"lightgrey\", \"condition\": {\"value\": \"darkred\", \"selection\": \"selector033\"}}, \"tooltip\": [{\"type\": \"quantitative\", \"field\": \"roi\"}, {\"type\": \"quantitative\", \"field\": \"costs\"}, {\"type\": \"nominal\", \"field\": \"online\"}], \"x\": {\"type\": \"ordinal\", \"field\": \"adtype\", \"sort\": {\"field\": \"roi\", \"order\": \"descending\"}, \"title\": \"Type of Advertising\"}, \"y\": {\"type\": \"quantitative\", \"field\": \"costs\", \"title\": \"Cost in Million USD\"}}, \"height\": 200, \"selection\": {\"selector033\": {\"type\": \"single\", \"empty\": \"none\", \"on\": \"click\"}}, \"width\": 300}], \"data\": {\"name\": \"data-e0cfff88ee0e2b9c126f9c4df50d5f72\"}, \"$schema\": \"https://vega.github.io/schema/vega-lite/v3.3.0.json\", \"datasets\": {\"data-e0cfff88ee0e2b9c126f9c4df50d5f72\": [{\"adtype\": \"SEO\", \"roi\": 68.9, \"online\": \"yes\", \"costs\": 1.2}, {\"adtype\": \"Email\", \"roi\": 56.7, \"online\": \"yes\", \"costs\": 0.4}, {\"adtype\": \"PPC\", \"roi\": 52.4, \"online\": \"yes\", \"costs\": 1.5}, {\"adtype\": \"PR\", \"roi\": 48.5, \"online\": \"no\", \"costs\": 2.2}, {\"adtype\": \"Direct Mail\", \"roi\": 37.4, \"online\": \"no\", \"costs\": 8.7}, {\"adtype\": \"OMB\", \"roi\": 19.9, \"online\": \"yes\", \"costs\": 0.3}]}};\n",
       "var opt = {};\n",
       "var type = \"vega-lite\";\n",
       "var id = \"ba026609-5684-4fef-a1c6-a3a2785b8b31\";\n",
       "\n",
       "var output_area = this;\n",
       "\n",
       "require([\"nbextensions/jupyter-vega/index\"], function(vega) {\n",
       "  var target = document.createElement(\"div\");\n",
       "  target.id = id;\n",
       "  target.className = \"vega-embed\";\n",
       "\n",
       "  var style = document.createElement(\"style\");\n",
       "  style.textContent = [\n",
       "    \".vega-embed .error p {\",\n",
       "    \"  color: firebrick;\",\n",
       "    \"  font-size: 14px;\",\n",
       "    \"}\",\n",
       "  ].join(\"\\\\n\");\n",
       "\n",
       "  // element is a jQuery wrapped DOM element inside the output area\n",
       "  // see http://ipython.readthedocs.io/en/stable/api/generated/\\\n",
       "  // IPython.display.html#IPython.display.Javascript.__init__\n",
       "  element[0].appendChild(target);\n",
       "  element[0].appendChild(style);\n",
       "\n",
       "  vega.render(\"#\" + id, spec, type, opt, output_area);\n",
       "}, function (err) {\n",
       "  if (err.requireType !== \"scripterror\") {\n",
       "    throw(err);\n",
       "  }\n",
       "});\n"
      ],
      "text/plain": [
       "<vega.vegalite.VegaLite at 0x1126809e8>"
      ]
     },
     "metadata": {
      "jupyter-vega": "#ba026609-5684-4fef-a1c6-a3a2785b8b31"
     },
     "output_type": "display_data"
    },
    {
     "data": {
      "text/plain": []
     },
     "execution_count": 86,
     "metadata": {},
     "output_type": "execute_result"
    },
    {
     "data": {
      "image/png": "[encoded data removed]"
     },
     "metadata": {
      "jupyter-vega": "#ba026609-5684-4fef-a1c6-a3a2785b8b31"
     },
     "output_type": "display_data"
    }
   ],
   "source": [
    "selector = alt.selection(type=\"single\", empty='none', on='click')\n",
    "\n",
    "base_chart = alt.Chart(df).mark_bar().encode(\n",
    "    x = alt.X(\"adtype:O\", title=\"Type of Advertising\",\n",
    "               sort = alt.EncodingSortField(\n",
    "                    field=\"roi\",\n",
    "                    order=\"descending\"\n",
    "        )\n",
    "),\n",
    "    color= alt.condition(\n",
    "        selector, \n",
    "        alt.value(\"darkred\"),\n",
    "        alt.value(\"lightgrey\")),\n",
    "        tooltip=[\"roi\", \"costs\", \"online\"] # display ROI and online properties on mouseover\n",
    ").add_selection(\n",
    "    selector\n",
    ").properties(\n",
    "    width=300,\n",
    "    height=200\n",
    ")\n",
    "\n",
    "\n",
    "base_chart.encode(y = alt.Y(\"roi:Q\", title=\"Return on Investment [%]\")) | base_chart.encode(y = alt.Y(\"costs:Q\", title=\"Cost in Million USD\"))\n"
   ]
  },
  {
   "cell_type": "markdown",
   "metadata": {},
   "source": [
    "Now when you click on any of the bars on either side, it'll highlight the corresponding bar on the other side. It becomes pretty easy to see that Direct Mail is a terrible idea (very expensive, because you have to actually produce and send physical letters), and that SEO and e-mail are cheap and effective (of course, we've just made that up!). \n",
    "\n",
    "And that's it for this tutorial! I very much encourage you to look at the ever-growing [example gallery](https://altair-viz.github.io/gallery/index.html) on the Altair website, and the Altair [documentation](https://altair-viz.github.io/index.html) more generally, which is great. Have fun exploring!"
   ]
  }
 ],
 "metadata": {
  "kernelspec": {
   "display_name": "Python 3",
   "language": "python",
   "name": "python3"
  },
  "language_info": {
   "codemirror_mode": {
    "name": "ipython",
    "version": 3
   },
   "file_extension": ".py",
   "mimetype": "text/x-python",
   "name": "python",
   "nbconvert_exporter": "python",
   "pygments_lexer": "ipython3",
   "version": "3.6.6"
  }
 },
 "nbformat": 4,
 "nbformat_minor": 2
}
