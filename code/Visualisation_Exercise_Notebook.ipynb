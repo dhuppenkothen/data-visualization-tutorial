{
 "cells": [
  {
   "cell_type": "markdown",
   "metadata": {},
   "source": [
    "# Data Visualization: A Walkthrough\n",
    "\n",
    "This notebook takes an existing data visualization and aims to improve it based in some principles of good design. \n",
    "\n",
    "Here's the original data visualization:\n",
    "\n",
    "![original infographic](../fig/infographic.png)\n",
    "\n",
    "Some internet business terminology to keep track of (or not):\n",
    "* \"ROI\" = \"Return on Investment\", i.e. how much profit you get back after spending some money on advertising\n",
    "* \"SEO\" = \"Search Engine Optimization\", the process of tweaking your website so that it appears far on top in search engines like Google or DuckDuckGo\n",
    "* \"PPC\" = \"Pay-per-click\" is an internet advertising model used to drive traffic to websites, in which an advertiser pays a publisher (typically a search engine, website owner, or a network of websites) when the ad is clicked (as per [wikipedia](https://en.wikipedia.org/wiki/Pay-per-click)\n",
    "* \"PR\" = \"Public Relations\", is a strategic communication process that builds mutually beneficial relationships between organisations and the public, as per [this website](https://publicrelationssydney.com.au/the-difference-between-advertising-and-pr/)\n",
    "* \"Direct Mail\": good old-fashioned snail mail advertising you get in the post\n",
    "* \"Online Media Buys\": refers to matching an advertisement to an intended audience, I think. See also [wikipedia](https://en.wikipedia.org/wiki/Media_buying)\n",
    "\n",
    "**Exercise**: Write down short statements regarding the following questions\n",
    "* When you first looked at the figure, what did you first study: the visualization or the text?\n",
    "* What key point do you think the data visualzation is meant to convey?\n",
    "* How well does the type of data visualization and its physical appearance (form, colours, contrast etc) convey the information given in the text?\n",
    "* What alternative forms might you choose to represent the data?\n",
    "\n",
    "**Note**: This a data visualization exercise, not one in internet marketing. If some of those terms don't make sense do you, that's totally okay. If you can't figure out what the figure is trying to tell you (honestly, I'm not sure, either), that's fine, too! For a data visualization exercise like this, you can totally make up a message you want to bring across (in fact, I'm going to do exactly that further down below) and run with it. In reality, we're scientists, however, and we don't make up stories in general. In your work, you might be faced with two situations:\n",
    "* *Exploratory data analysis*: Often, data visualization is a key part of exploratory data analysis, where you encounter a new data set and you don't know yet what's in there. For example, data from a new telescope might contain systematic effects that lead to funny-looking data. Visualizing the data sets helps you figure out what your data looks like, what biases might be in it. \n",
    "* *Explaining a result with a visualization*: In our scientific (or non-scientific!) publications, we often use visualizations to explain a scientific result. In these cases, we already *know* the story, our scientific result, so in this case our task is to make sure that our visualization (1) represents the data accurately (everything else would be lying), and (2) that it allows the viewer to understand your results and how you've arrived there. \n",
    "\n",
    "\n",
    "### Data Visualization Libraries\n",
    "\n",
    "There are *many* different data visualization libraries out there in many different languages! For example [d3.js](https://d3js.org) has become very popular in the online world to make interactive visualizations and websites. D3 has a pretty steep learning curve, though, and you need to know some JavaScript first. If you do, you can build amazing things, though. The New York Times has a fantastic data visualization team, have a look for example at their [2018 Year in Graphics](https://www.nytimes.com/interactive/2018/us/2018-year-in-graphics.html).\n",
    "\n",
    "But even within Python, which we're using here, there's a large number of libraries, and it can be difficult to choose which one might fulfil your purpose best.\n",
    "Here, we are going to work with [matplotlib](https://matplotlib.org) and [seaborn](https://seaborn.pydata.org), but we encourage you to recreate this notebook (or go a different route!) with another language and/or package. \n",
    "\n",
    "The version you see on the website is a Markdown version (Markdown is a document language) of a Jupyter Notebook. You can find this notebook in the `/code/` folder of the repository under the name `12-walkthrough.ipynb`, if you want to download and execute the code yourself. However, I would also encourage you to create your own notebook and type the commands yourself, and edit them as you go to try new things. You'll probably learn more that way!\n",
    "\n",
    "So let's get started by importing some libraries:"
   ]
  },
  {
   "cell_type": "code",
   "execution_count": 1,
   "metadata": {},
   "outputs": [],
   "source": [
    "# show plots inline\n",
    "%matplotlib inline \n",
    "\n",
    "# import matplotlib and seaborn\n",
    "import matplotlib.pyplot as plt\n",
    "import seaborn as sns\n",
    "\n",
    "# some style choices I like\n",
    "sns.set_style(\"whitegrid\") # include grid, white background\n",
    "sns.set_context(\"talk\") # larger text sizes by default"
   ]
  },
  {
   "cell_type": "markdown",
   "metadata": {},
   "source": [
    "### The data\n",
    "\n",
    "Let's copy the data from the figure. This is easy, since the information was printed right next to the figure. As an aside: there may be good reasons to include the data the visualization is drawn from within a figure. However, when you need to include the data as the only way to make your data visualization legible, you may want to think whether there is a better way to visualize the data than your current choice.\n",
    "\n",
    "Let's first import some libraries and then make a pandas Series with our data:"
   ]
  },
  {
   "cell_type": "code",
   "execution_count": 2,
   "metadata": {},
   "outputs": [],
   "source": [
    "import numpy as np\n",
    "import pandas as pd"
   ]
  },
  {
   "cell_type": "code",
   "execution_count": 3,
   "metadata": {},
   "outputs": [],
   "source": []
  },
  {
   "cell_type": "code",
   "execution_count": null,
   "metadata": {},
   "outputs": [],
   "source": []
  },
  {
   "cell_type": "markdown",
   "metadata": {},
   "source": [
    "### Choosing a Visualization Type\n",
    "\n",
    "One of the key choices to make for visualizing data is the *type* of data visualization. \n",
    "Which data visualization you choose is a matter of the *function* of your visualization and the *type* of your *data*. Are you showing fractional pieces of a whole? Are you comparing a quantity between different data sets? Do you have data as a function of time or wavelength?\n",
    "\n",
    "One great resource is the [data visualization catalogue](https://datavizcatalogue.com). It's basically a library of different types of data visualizations, each with a description, what it's often used for, and what the potential pitfalls are. One useful way to sort this catalogue is by function, which can be helpful in defining what it is you need.\n",
    "\n",
    "**Exercise**: Go back to your answers to the questions above, and use the data visualization catalogue to find a type of data visualization that might represent the data above more clearly.\n",
    "\n",
    "Our example figure is a particular form of [pie chart](https://datavizcatalogue.com/methods/pie_chart.html). Pie charts are often used to represent fractions of a whole. While they're often not as bad as their reputation, in this case, they're *not* a good way to visualize the data. For a pie chart to work, the different data entries *must* add up to 100%. As is very clear above, this is not the case, which is presumably why the graphic designer chose to nest the different pie slices. The problem whith this is that you can't really tell anything about the slices behind the first one, except that some are bigger than others, and it's hard to track which slice belongs to which data entry (you may or may not have noticed that the smallest slice actually connects to the largest number, and the largest slice connects to the smallest number). \n",
    "\n",
    "So what's a better way to present this data? Something that's definitely true for data visualization: simple is often better.\n",
    "\n",
    "**Hint**: you can use the [seaborn gallery of examples](https://seaborn.pydata.org/examples/index.html) for inspiration and sample code or browse through the [matplotlib examples](https://matplotlib.org/stable/gallery/index) for the same idea."
   ]
  },
  {
   "cell_type": "code",
   "execution_count": null,
   "metadata": {},
   "outputs": [],
   "source": []
  },
  {
   "cell_type": "code",
   "execution_count": null,
   "metadata": {},
   "outputs": [],
   "source": []
  },
  {
   "cell_type": "markdown",
   "metadata": {},
   "source": [
    "Hopefully, the figure you chose gives you more information about the data than the previous version did. Can you tell which visual representation belongs to which entry without the confusing lines from the original plot? Is it clearer which of the entries have the largest ROI? \n",
    "\n",
    "Ideally, you would only include the numbers on the figure if they're crucially important to the narrative of the figure.  \n",
    "\n",
    "### Colour\n",
    "\n",
    "Let's talk about colour! Along with shape and type, this is one of the most important decisions you can make. One reason for this is that recognizing things by colour is a pre-attentive task: your brain can perform it in the span of less than a hundred milliseconds, without you having to consciously think about it! That means colour is an important tool to guide your viewer in the right direction, but it can also confuse a lot.\n",
    "\n",
    "Let's say our narrative is that e-mail advertising is *almost* as effective as Search Engine Optimization (maybe because it's much cheaper, and we're trying to convince someone to put some money in it). \n",
    "\n",
    "**Exercise**: So let's use colour a little more mindfully. First, make sure that all plot components have the same colour, then specifically colour the e-mail bar differently. Depending on chart type, there are other tweaks you might want to make (for example, you could order a bar chart by height).\n"
   ]
  },
  {
   "cell_type": "code",
   "execution_count": null,
   "metadata": {},
   "outputs": [],
   "source": []
  },
  {
   "cell_type": "markdown",
   "metadata": {},
   "source": [
    "**Exercise**: Just for fun, can you change the colour of bars according to height? What kind of colour palette would you choose? A perceptually uniform or diverging one? Motivate your choice. :)\n",
    "\n",
    "**Hint**: In seaborn, the command [`sns.palplot()`](https://seaborn.pydata.org/tutorial/color_palettes.html) lets you explore color palettes. For matplotlib, here's a [handy overview](https://matplotlib.org/stable/tutorials/colors/colormaps.html)."
   ]
  },
  {
   "cell_type": "code",
   "execution_count": null,
   "metadata": {},
   "outputs": [],
   "source": []
  },
  {
   "cell_type": "markdown",
   "metadata": {},
   "source": [
    "**Exercise**: Now perhaps, instead, we'd actually want to highlight the e-mail data point. Make sure that the bars are not just different in hue, but also different in luminance, so that the figure will still look good in grayscale. Check with a tool to see whether the result is colorblind-friendly.\n",
    "\n",
    "**Hint**: In seaborn, you can assign colours to individual chart elements.\n"
   ]
  },
  {
   "cell_type": "code",
   "execution_count": null,
   "metadata": {},
   "outputs": [],
   "source": []
  },
  {
   "cell_type": "markdown",
   "metadata": {},
   "source": [
    "You can also change the shape (e.g. in the case of a scatter plot), make the bars slightly transparent (which is strictly also a change in intensity), or include some kind of other pattern (e.g. make one bar cross-hatched) that will distinguish your important elements from the rest.\n",
    "\n",
    "Note that in everything you do, **contrast is important**, not only but especially for readers with vision deficiencies. Make sure that there is always sufficient contrast in those elements of your plot that are crucial for readers to understand the message conveyed in it.\n",
    "\n",
    "There are a number of great tools out there to check for things like contrast and colour combinations. I like [ColorOracle](https://colororacle.org), which is a nifty little tool that simulates what your screen would look like to a colour-blind person. But there are also websites like [this one](https://www.color-blindness.com/coblis-color-blindness-simulator/) where you can upload an image or a figure and it will simulate how your figure would look like to a colour-blind person.\n",
    "\n",
    "### Other Features\n",
    "\n",
    "Let's make this figure even more aligned with our ficticious narrative. In particular, you may have noticed that our y-axis is unlabelled, and perhaps we'd like to emphasize that e-mails in particular have a return-on-investment of over 50 percent.\n",
    "\n",
    "**Exercise**: Add the value for the ROI for e-mail as text to the Figure, and add a y-axis label."
   ]
  },
  {
   "cell_type": "code",
   "execution_count": null,
   "metadata": {},
   "outputs": [],
   "source": []
  },
  {
   "cell_type": "markdown",
   "metadata": {},
   "source": [
    "### A Note on Gridlines\n",
    "\n",
    "As a final note, a short thing about gridlines. Gridlines can be incredibly helpful to guide the eye. However, be aware that different gridlines will emphasize different parts of your data visualization. Generally, widely spaced gridlines emphasize large-scale differences (like above for the OMB and the direct mail). If you're interested in emphasizing smaller changes, you might want to use a narrower spacing between gridlines in order to make it easier for readers to see small changes (e.g. between \"email\", \"PPC\" and \"PR\").\n",
    "\n",
    "**Exercise**: Add gridlines to the figure. Play with the number and spacing of gridlines, and see how it changes the emphasis in your figure. If they seem very prominent, you can adjust line width and colour to given them less visual weight."
   ]
  },
  {
   "cell_type": "code",
   "execution_count": null,
   "metadata": {},
   "outputs": [],
   "source": []
  },
  {
   "cell_type": "markdown",
   "metadata": {},
   "source": [
    "### Alternative Text\n",
    "\n",
    "As a last step, remember that some of your readers might be using screen readers. Compose an informative alternative text (e.g. for websites) or figure caption that allows users with screen readers to get the gist of what you've plotted, ideally along with a link to a machine-readable version of the data. \n",
    "\n",
    "For example, my Markdown alt-text for the website version of this figure reads: \"bar chart for return on investment for different types of marketing strategies, e-mail highlighted in red at second place with 53.4% return on investment\".\n",
    "\n",
    "In a paper, I might caption this like this: \"This figure presents our results for the return on investment (ROI) for different types of marketing strategies, as a bar chart. While Search Engine Optimization (SEO, left-most bar) has undoubtedly the highest ROI, our results show that e-mail (highlighted in red) follows closely behind with 53.4% ROI, leaving behind PPC, PR, Direct Mail and OMB.\"\n",
    "\n",
    "### Exercise\n",
    "Build your own narrative or data visualization! You can make up your own narrative to convey with this data, or you can choose one of the other visualizations in the Gallery in [Wireframing a Visualization](http://huppenkothen.org/data-visualization-tutorial/11-improveaviz/index.html) exercise. Then choose a type of data visualization, a set of colours and other elements of your figure accordingly! You can explore the [data visualization catalogue](http://www.datavizcatalogue.com) for different types of visualizations to try out, and you can explore different combinations of colour palettes, intensities and values of transparency to help you emphasize the most important information. When you're done, add your figure [to this github repo](https://github.com/dhuppenkothen/data-visualization-tutorial) by following the instructions on [this page]((http://dhuppenkothen.github.io/data-visualization-tutorial/14-exercisegallery/index.html)."
   ]
  },
  {
   "cell_type": "raw",
   "metadata": {},
   "source": []
  }
 ],
 "metadata": {
  "kernelspec": {
   "display_name": "Python 3 (ipykernel)",
   "language": "python",
   "name": "python3"
  },
  "language_info": {
   "codemirror_mode": {
    "name": "ipython",
    "version": 3
   },
   "file_extension": ".py",
   "mimetype": "text/x-python",
   "name": "python",
   "nbconvert_exporter": "python",
   "pygments_lexer": "ipython3",
   "version": "3.9.12"
  }
 },
 "nbformat": 4,
 "nbformat_minor": 2
}
