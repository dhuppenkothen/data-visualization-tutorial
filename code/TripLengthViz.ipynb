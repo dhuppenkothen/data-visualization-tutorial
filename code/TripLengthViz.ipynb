{
 "cells": [
  {
   "cell_type": "markdown",
   "metadata": {},
   "source": [
    "### Trip Length Visualization\n",
    "\n",
    "Let's do this visualization as a bar chart:\n",
    "\n",
    "![bar chart with average trip length per year, for Christmas, Thanksgiving and the remainder](../fig/triplength.png)\n",
    "\n",
    "We're going to use Altair for this:"
   ]
  },
  {
   "cell_type": "code",
   "execution_count": 1,
   "metadata": {},
   "outputs": [],
   "source": [
    "import altair as alt\n",
    "\n",
    "alt.renderers.enable(\"notebook\")\n",
    "\n",
    "import numpy as np\n",
    "import pandas as pd"
   ]
  },
  {
   "cell_type": "markdown",
   "metadata": {},
   "source": [
    "We can read the data directly off the chart and save in a dictionary, and then transform it into a pandas DataFrame for easier usage:"
   ]
  },
  {
   "cell_type": "code",
   "execution_count": 2,
   "metadata": {},
   "outputs": [],
   "source": [
    "trip_length_dict = {\"trip_type\": [\"thanksgiving\", \"christmas\", \"remainder\"],\n",
    "                    \"length\": [214, 275, 261]}\n",
    "\n",
    "trip_length = pd.DataFrame(trip_length_dict)"
   ]
  },
  {
   "cell_type": "markdown",
   "metadata": {},
   "source": [
    "Now let's make this into a bar chart:"
   ]
  },
  {
   "cell_type": "code",
   "execution_count": 3,
   "metadata": {},
   "outputs": [
    {
     "data": {
      "text/html": [
       "<div class=\"vega-embed\" id=\"38542e19-b65d-4d69-8eb8-10590427d311\"></div>\n",
       "\n",
       "<style>\n",
       ".vega-embed .vega-actions > a {\n",
       "    transition: opacity 200ms ease-in;\n",
       "    opacity: 0.3;\n",
       "    margin-right: 0.6em;\n",
       "    color: #444;\n",
       "    text-decoration: none;\n",
       "}\n",
       "\n",
       ".vega-embed .vega-actions > a:hover {\n",
       "    color: #000;\n",
       "    text-decoration: underline;\n",
       "}\n",
       "\n",
       ".vega-embed:hover .vega-actions > a {\n",
       "    opacity: 1;\n",
       "    transition: 0s;\n",
       "}\n",
       "\n",
       ".vega-embed .error p {\n",
       "    color: firebrick;\n",
       "    font-size: 1.2em;\n",
       "}\n",
       "</style>\n"
      ]
     },
     "metadata": {
      "jupyter-vega3": "#38542e19-b65d-4d69-8eb8-10590427d311"
     },
     "output_type": "display_data"
    },
    {
     "data": {
      "application/javascript": [
       "var spec = {\"config\": {\"view\": {\"width\": 400, \"height\": 300}}, \"data\": {\"name\": \"data-6cdfcfe48abb8a71058e413993152f79\"}, \"mark\": {\"type\": \"bar\", \"color\": \"steelblue\", \"opacity\": 0.8}, \"encoding\": {\"x\": {\"type\": \"nominal\", \"field\": \"trip_type\", \"title\": \"Type of Trip\"}, \"y\": {\"type\": \"quantitative\", \"field\": \"length\", \"scale\": {\"padding\": 30}, \"title\": \"Average length in miles\"}}, \"height\": 200, \"width\": 300, \"$schema\": \"https://vega.github.io/schema/vega-lite/v2.6.0.json\", \"datasets\": {\"data-6cdfcfe48abb8a71058e413993152f79\": [{\"trip_type\": \"thanksgiving\", \"length\": 214}, {\"trip_type\": \"christmas\", \"length\": 275}, {\"trip_type\": \"remainder\", \"length\": 261}]}};\n",
       "var opt = {};\n",
       "var selector = \"#38542e19-b65d-4d69-8eb8-10590427d311\";\n",
       "var type = \"vega-lite\";\n",
       "\n",
       "var output_area = this;\n",
       "\n",
       "require(['nbextensions/jupyter-vega3/index'], function(vega) {\n",
       "  vega.render(selector, spec, type, opt, output_area);\n",
       "}, function (err) {\n",
       "  if (err.requireType !== 'scripterror') {\n",
       "    throw(err);\n",
       "  }\n",
       "});\n"
      ]
     },
     "metadata": {
      "jupyter-vega3": "#38542e19-b65d-4d69-8eb8-10590427d311"
     },
     "output_type": "display_data"
    },
    {
     "data": {
      "text/plain": []
     },
     "execution_count": 3,
     "metadata": {},
     "output_type": "execute_result"
    },
    {
     "data": {
      "image/png": "[encoded data removed]"
     },
     "metadata": {
      "jupyter-vega3": "#38542e19-b65d-4d69-8eb8-10590427d311"
     },
     "output_type": "display_data"
    }
   ],
   "source": [
    "alt.Chart(trip_length).mark_bar(color=\"steelblue\", opacity=0.8).encode(\n",
    "    x = alt.X(\"trip_type:N\", title=\"Type of Trip\"),\n",
    "    y = alt.Y(\"length:Q\", title=\"Average length in miles\", scale=alt.Scale(padding=30))\n",
    ").properties(\n",
    "    width=300,\n",
    "    height=200\n",
    ")"
   ]
  }
 ],
 "metadata": {
  "kernelspec": {
   "display_name": "Python 3",
   "language": "python",
   "name": "python3"
  },
  "language_info": {
   "codemirror_mode": {
    "name": "ipython",
    "version": 3
   },
   "file_extension": ".py",
   "mimetype": "text/x-python",
   "name": "python",
   "nbconvert_exporter": "python",
   "pygments_lexer": "ipython3",
   "version": "3.6.7"
  }
 },
 "nbformat": 4,
 "nbformat_minor": 2
}
