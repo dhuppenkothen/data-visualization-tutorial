{
 "cells": [
  {
   "cell_type": "markdown",
   "metadata": {},
   "source": [
    "# Data Visualization: A Walkthrough\n",
    "\n",
    "This notebook takes an existing data visualization and aims to improve it based in some principles of good design. \n",
    "\n",
    "Here's the original data visualization:\n",
    "\n",
    "![original infographic](../fig/infographic.png)\n",
    "\n",
    "**Exercise**: Write down short statements regarding the following questions\n",
    "* When you first looked at the figure, what did you first study: the visualization or the text?\n",
    "* What key point do you think the data visualzation is meant to convey?\n",
    "* How well does the type of data visualization and its physical appearance (form, colours, contrast etc) convey the information given in the text?\n",
    "* What alternative forms might you choose to represent the data?\n",
    "\n",
    "### Data Visualization Libraries\n",
    "\n",
    "There are *many* different data visualization libraries out there in many different languages! For example [d3.js](https://d3js.org) has become very popular in the online world to make interactive visualizations and websites. D3 has a pretty steep learning curve, though, and you need to know some JavaScript first. If you do, you can build amazing things, though. The New York Times has a fantastic data visualization team, have a look for example at their [2018 Year in Graphics](https://www.nytimes.com/interactive/2018/us/2018-year-in-graphics.html).\n",
    "\n",
    "But even within Python, which we're using here, there's a large number of libraries, and it can be difficult to choose which one might fulfil your purpose best.\n",
    "Here, we are going to work with [matplotlib](https://matplotlib.org) and [seaborn](https://seaborn.pydata.org), but we encourage you to recreate this notebook (or go a different route!) with another language and/or package. \n",
    "\n",
    "The version you see on the website is a Markdown version (Markdown is a document language) of a Jupyter Notebook. You can find this notebook in the `/code/` folder of the repository under the name `12-walkthrough.ipynb`, if you want to download and execute the code yourself. However, I would also encourage you to create your own notebook and type the commands yourself, and edit them as you go to try new things. You'll probably learn more that way!\n",
    "\n",
    "So let's get started by importing some libraries:"
   ]
  },
  {
   "cell_type": "code",
   "execution_count": 1,
   "metadata": {},
   "outputs": [],
   "source": [
    "# show plots inline\n",
    "%matplotlib inline \n",
    "\n",
    "# import matplotlib and seaborn\n",
    "import matplotlib.pyplot as plt\n",
    "import seaborn as sns\n",
    "\n",
    "# some style choices I like\n",
    "sns.set_style(\"whitegrid\") # include grid, white background\n",
    "sns.set_context(\"talk\") # larger text sizes by default"
   ]
  },
  {
   "cell_type": "markdown",
   "metadata": {},
   "source": [
    "### The data\n",
    "\n",
    "Let's copy the data from the figure. This is easy, since the information was printed right next to the figure. As an aside: there may be good reasons to include the data the visualization is drawn from within a figure. However, when you need to include the data as the only way to make your data visualization legible, you may want to think whether there is a better way to visualize the data than your current choice.\n",
    "\n",
    "Let's first import some libraries and then make a pandas Series with our data:"
   ]
  },
  {
   "cell_type": "code",
   "execution_count": 2,
   "metadata": {},
   "outputs": [],
   "source": [
    "import numpy as np\n",
    "import pandas as pd"
   ]
  },
  {
   "cell_type": "code",
   "execution_count": 3,
   "metadata": {},
   "outputs": [],
   "source": [
    "d = {\"SEO\": 68.9, \"Email\": 56.7, \"PPC\": 52.4, \"PR\": 48.5, \"Direct Mail\": 37.4, \"OMB\": 19.9}\n",
    "\n",
    "df = pd.Series(d)"
   ]
  },
  {
   "cell_type": "code",
   "execution_count": 4,
   "metadata": {},
   "outputs": [
    {
     "data": {
      "text/plain": [
       "Direct Mail    37.4\n",
       "Email          56.7\n",
       "OMB            19.9\n",
       "PPC            52.4\n",
       "PR             48.5\n",
       "SEO            68.9\n",
       "dtype: float64"
      ]
     },
     "execution_count": 4,
     "metadata": {},
     "output_type": "execute_result"
    }
   ],
   "source": [
    "df"
   ]
  },
  {
   "cell_type": "markdown",
   "metadata": {},
   "source": [
    "### Choosing a Visualization Type\n",
    "\n",
    "One of the key choices to make for visualizing data is the *type* of data visualization. \n",
    "Which data visualization you choose is a matter of the *function* of your visualization and the *type* of your *data*. Are you showing fractional pieces of a whole? Are you comparing a quantity between different data sets? Do you have data as a function of time or wavelength?\n",
    "\n",
    "One great resource is the [data visualization catalogue](https://datavizcatalogue.com). It's basically a library of different types of data visualizations, each with a description, what it's often used for, and what the potential pitfalls are. One useful way to sort this catalogue is by function, which can be helpful in defining what it is you need.\n",
    "\n",
    "**Exercise**: Go back to your answers to the questions above, and use the data visualization catalogue to find a type of data visualization that might represent the data above more clearly.\n",
    "\n",
    "Our example figure is a particular form of [pie chart](https://datavizcatalogue.com/methods/pie_chart.html). Pie charts are often used to represent fractions of a whole. While they're often not as bad as their reputation, in this case, they're *not* a good way to visualize the data. For a pie chart to work, the different data entries *must* add up to 100%. As is very clear above, this is not the case, which is presumably why the graphic designer chose to nest the different pie slices. The problem whith this is that you can't really tell anything about the slices behind the first one, except that some are bigger than others, and it's hard to track which slice belongs to which data entry (you may or may not have noticed that the smallest slice actually connects to the largest number, and the largest slice connects to the smallest number). \n",
    "\n",
    "So what's a better way to present this data? Something that's definitely true for data visualization: simple is often better. So let's do a bar chart instead:"
   ]
  },
  {
   "cell_type": "code",
   "execution_count": 5,
   "metadata": {},
   "outputs": [
    {
     "data": {
      "text/plain": [
       "Index(['Direct Mail', 'Email', 'OMB', 'PPC', 'PR', 'SEO'], dtype='object')"
      ]
     },
     "execution_count": 5,
     "metadata": {},
     "output_type": "execute_result"
    }
   ],
   "source": [
    "df.index"
   ]
  },
  {
   "cell_type": "code",
   "execution_count": 6,
   "metadata": {},
   "outputs": [
    {
     "data": {
      "text/plain": [
       "<matplotlib.axes._subplots.AxesSubplot at 0x10be249e8>"
      ]
     },
     "execution_count": 6,
     "metadata": {},
     "output_type": "execute_result"
    },
    {
     "data": {
      "image/png": "[encoded data removed]",
      "text/plain": [
       "<matplotlib.figure.Figure at 0x10be240f0>"
      ]
     },
     "metadata": {},
     "output_type": "display_data"
    }
   ],
   "source": [
    "# set up the plot\n",
    "fig = plt.subplots(1, 1, figsize=(6,4))\n",
    "\n",
    "# make the bar chart\n",
    "sns.barplot(x=df.index, y=df.values)"
   ]
  },
  {
   "cell_type": "markdown",
   "metadata": {},
   "source": [
    "This figure immediately gives you more information about the data than the previous version did. In particular, it's immediately clear which bar belongs to which entry without confusing lines connecting them, and the order is also immediately clear: SEO has the largest return-on-investment, Online Media Buys the smallest. \n",
    "\n",
    "Without having the numbers printed on the figure, you can still fairly easily read off the approximate value of those numbers from the axes. In this case, I would only include the numbers on the figure if they're crucially important to the narrative of the figure.  \n",
    "\n",
    "### Colour\n",
    "\n",
    "Let's talk about colour! Along with shape and type, this is one of the most important decisions you can make. One reason for this is that recognizing things by colour is a pre-attentive task: your brain can perform it in the span of less than a hundred milliseconds, without you having to consciously think about it! That means colour is an important tool to guide your viewer in the right direction, but it can also confuse a lot.\n",
    "\n",
    "Let's say our narrative is that e-mail advertising is *almost* as effective as Search Engine Optimization (maybe because it's much cheaper, and we're trying to convince someone to put some money in it). \n",
    "\n",
    "In the figure above, each bar is a different colour. Moreover, all the colours are similarly weighted (they're equally opaque, and have similar visual weights). This sort of implies that they're all equally important, and the colour itself conveys no useful information. It more detracts from the information than it adds.\n",
    "\n",
    "So let's use colour a little more mindfully:\n"
   ]
  },
  {
   "cell_type": "code",
   "execution_count": 7,
   "metadata": {},
   "outputs": [
    {
     "data": {
      "text/plain": [
       "<matplotlib.axes._subplots.AxesSubplot at 0x11187a048>"
      ]
     },
     "execution_count": 7,
     "metadata": {},
     "output_type": "execute_result"
    },
    {
     "data": {
      "image/png": "[encoded data removed]",
      "text/plain": [
       "<matplotlib.figure.Figure at 0x1a157a3940>"
      ]
     },
     "metadata": {},
     "output_type": "display_data"
    }
   ],
   "source": [
    "# make the bar chart\n",
    "sns.barplot(x=df.index, y=df.values, color=\"darkblue\")"
   ]
  },
  {
   "cell_type": "markdown",
   "metadata": {},
   "source": [
    "We can use the gestalt concept of continuity to order this by y height. This allows us to decipher the plot information quicker."
   ]
  },
  {
   "cell_type": "code",
   "execution_count": 8,
   "metadata": {},
   "outputs": [],
   "source": [
    "df.sort_values(inplace=True, ascending=False)"
   ]
  },
  {
   "cell_type": "code",
   "execution_count": 9,
   "metadata": {},
   "outputs": [
    {
     "data": {
      "text/plain": [
       "SEO            68.9\n",
       "Email          56.7\n",
       "PPC            52.4\n",
       "PR             48.5\n",
       "Direct Mail    37.4\n",
       "OMB            19.9\n",
       "dtype: float64"
      ]
     },
     "execution_count": 9,
     "metadata": {},
     "output_type": "execute_result"
    }
   ],
   "source": [
    "df"
   ]
  },
  {
   "cell_type": "code",
   "execution_count": 10,
   "metadata": {},
   "outputs": [
    {
     "data": {
      "text/plain": [
       "<matplotlib.axes._subplots.AxesSubplot at 0x1a157a3a58>"
      ]
     },
     "execution_count": 10,
     "metadata": {},
     "output_type": "execute_result"
    },
    {
     "data": {
      "image/png": "[encoded data removed]",
      "text/plain": [
       "<matplotlib.figure.Figure at 0x1a157f6208>"
      ]
     },
     "metadata": {},
     "output_type": "display_data"
    }
   ],
   "source": [
    "# make the bar chart\n",
    "sns.barplot(x=df.index, y=df.values, color=\"darkblue\")"
   ]
  },
  {
   "cell_type": "markdown",
   "metadata": {},
   "source": [
    "This is much more boring, but much less confusing. We can color the bars by another dimension to convey more information, let's say here we want to color them by height. We do this by using a sequential color palette. This still allows the red bar to jump out, and gives some weight to the remaining bars."
   ]
  },
  {
   "cell_type": "code",
   "execution_count": 11,
   "metadata": {},
   "outputs": [
    {
     "data": {
      "image/png": "[encoded data removed]",
      "text/plain": [
       "<matplotlib.figure.Figure at 0x1a158dee48>"
      ]
     },
     "metadata": {},
     "output_type": "display_data"
    }
   ],
   "source": [
    "sns.palplot(sns.color_palette(\"Blues\"))"
   ]
  },
  {
   "cell_type": "code",
   "execution_count": 12,
   "metadata": {},
   "outputs": [
    {
     "data": {
      "text/plain": [
       "<matplotlib.axes._subplots.AxesSubplot at 0x1075765c0>"
      ]
     },
     "execution_count": 12,
     "metadata": {},
     "output_type": "execute_result"
    },
    {
     "data": {
      "image/png": "[encoded data removed]",
      "text/plain": [
       "<matplotlib.figure.Figure at 0x1a158deeb8>"
      ]
     },
     "metadata": {},
     "output_type": "display_data"
    }
   ],
   "source": [
    "# make the bar chart\n",
    "sns.barplot(x=df.index, y=df.values, palette=\"Blues\")"
   ]
  },
  {
   "cell_type": "markdown",
   "metadata": {},
   "source": [
    "Now perhaps, instead, we'd actually want to highlight the e-mail data point. \n",
    "\n",
    "We can do this in seaborn by not passing a single colour, but passing a colour for each bar separately:"
   ]
  },
  {
   "cell_type": "code",
   "execution_count": 13,
   "metadata": {},
   "outputs": [],
   "source": [
    "colours = [\"darkblue\", \"red\", \"darkblue\", \"darkblue\", \"darkblue\", \"darkblue\"]"
   ]
  },
  {
   "cell_type": "code",
   "execution_count": 14,
   "metadata": {},
   "outputs": [
    {
     "data": {
      "text/plain": [
       "<matplotlib.axes._subplots.AxesSubplot at 0x1a15a540f0>"
      ]
     },
     "execution_count": 14,
     "metadata": {},
     "output_type": "execute_result"
    },
    {
     "data": {
      "image/png": "[encoded data removed]",
      "text/plain": [
       "<matplotlib.figure.Figure at 0x1a15a2fbe0>"
      ]
     },
     "metadata": {},
     "output_type": "display_data"
    }
   ],
   "source": [
    "# make the bar chart\n",
    "sns.barplot(x=df.index, y=df.values, palette=colours)"
   ]
  },
  {
   "cell_type": "markdown",
   "metadata": {},
   "source": [
    "Now the red bar immediately jumps out, doesn't it? However, the bars are still of a similar visual weight. This might not be ideal, for example if the figure is printed in greyscale, where very different colours might come out very similarly."
   ]
  },
  {
   "cell_type": "markdown",
   "metadata": {},
   "source": [
    "Another important consideration is colour blindness. \n",
    "\n",
    "Here's the sampe plot above in red and green:"
   ]
  },
  {
   "cell_type": "code",
   "execution_count": 15,
   "metadata": {},
   "outputs": [
    {
     "data": {
      "text/plain": [
       "<matplotlib.axes._subplots.AxesSubplot at 0x1a15ad0780>"
      ]
     },
     "execution_count": 15,
     "metadata": {},
     "output_type": "execute_result"
    },
    {
     "data": {
      "image/png": "[encoded data removed]",
      "text/plain": [
       "<matplotlib.figure.Figure at 0x1a15a54978>"
      ]
     },
     "metadata": {},
     "output_type": "display_data"
    }
   ],
   "source": [
    "bad_colours = [\"green\", \"red\", \"green\", \"green\", \"green\", \"green\"]\n",
    "\n",
    "# make the bar chart\n",
    "sns.barplot(x=df.index, y=df.values, palette=bad_colours)"
   ]
  },
  {
   "cell_type": "markdown",
   "metadata": {},
   "source": [
    "And here is simulation of the same figure for deuteranopia, the most common kind of colour blindness:\n",
    "\n",
    "![plot shown in deuteranopia colors](images/deuteranopia.png)\n",
    "\n",
    "The best way to make this figure readable in both greyscale and to people with colour blindness is to not rely on colour alone for distinguishing elements. For example, you can also rely on intensity:"
   ]
  },
  {
   "cell_type": "code",
   "execution_count": 16,
   "metadata": {},
   "outputs": [
    {
     "data": {
      "text/plain": [
       "<matplotlib.axes._subplots.AxesSubplot at 0x1a15aacb38>"
      ]
     },
     "execution_count": 16,
     "metadata": {},
     "output_type": "execute_result"
    },
    {
     "data": {
      "image/png": "[encoded data removed]",
      "text/plain": [
       "<matplotlib.figure.Figure at 0x1a15b3e588>"
      ]
     },
     "metadata": {},
     "output_type": "display_data"
    }
   ],
   "source": [
    "colours = [\"lightgreen\", \"darkred\", \"lightgreen\", \"lightgreen\", \"lightgreen\", \"lightgreen\"]\n",
    "\n",
    "# make the bar chart\n",
    "sns.barplot(x=df.index, y=df.values, palette=colours)"
   ]
  },
  {
   "cell_type": "markdown",
   "metadata": {},
   "source": [
    "Or you can change the shape (e.g. in the case of a scatter plot), make the bars slightly transparent (which is strictly also a change in intensity), or include some kind of other pattern that will distinguish your important elements from the rest.\n",
    "\n",
    "Note that in everything you do, **contrast is important**, not only but especially for readers with vision deficiencies. Make sure that there is always sufficient contrast in those elements of your plot that are crucial for readers to understand the message conveyed in it.\n",
    "\n",
    "There are a number of great tools out there to check for things like contrast and colour combinations. I like [ColorOracle](https://colororacle.org), which is a nifty little tool that simulates what your screen would look like to a colour-blind person. But there are also websites like [this one](https://www.color-blindness.com/coblis-color-blindness-simulator/) where you can upload an image or a figure and it will simulate how your figure would look like to a colour-blind person.\n",
    "\n",
    "### Other Features\n",
    "\n",
    "Let's make this figure even more aligned with our ficticious narrative. In particular, you may have noticed that our y-axis is unlabelled, and perhaps we'd like to emphasize that e-mails in particular have a return-on-investment of over 50 percent.\n",
    "\n",
    "So let's actually add the text back, but only the important part. I'm also going to change the colours, firstly because I don't find the red and green combination particularly appealing, but additionally, making the other columns light grey visually sends them to the background, thereby further emphasizing the importance of the red column:"
   ]
  },
  {
   "cell_type": "code",
   "execution_count": 17,
   "metadata": {},
   "outputs": [
    {
     "data": {
      "text/plain": [
       "Text(0.6,58,'53.4%')"
      ]
     },
     "execution_count": 17,
     "metadata": {},
     "output_type": "execute_result"
    },
    {
     "data": {
      "image/png": "[encoded data removed]",
      "text/plain": [
       "<matplotlib.figure.Figure at 0x1a15c6e7f0>"
      ]
     },
     "metadata": {},
     "output_type": "display_data"
    }
   ],
   "source": [
    "colours = [\"lightgray\", \"darkred\", \"lightgray\", \"lightgray\", \"lightgray\", \"lightgray\"]\n",
    "\n",
    "font = {'family': 'serif',\n",
    "        'color':  'darkred',\n",
    "        'weight': 'normal',\n",
    "        'size': 16,\n",
    "        }\n",
    "\n",
    "fig, ax = plt.subplots(1, 1, figsize=(6,4))\n",
    "# make the bar chart\n",
    "sns.barplot(x=df.index, y=df.values, palette=colours, ax=ax)\n",
    "ax.set_ylabel(\"ROI [%]\")\n",
    "ax.text(0.6, 58, \"53.4%\", fontdict=font)"
   ]
  },
  {
   "cell_type": "markdown",
   "metadata": {},
   "source": [
    "### A Note on Gridlines\n",
    "\n",
    "As a final note, a short thing about gridlines. Gridlines can be incredibly helpful to guide the eye. However, be aware that different gridlines will emphasize different parts of your data visualization. Generally, widely spaced gridlines emphasize large-scale differences (like above for the OMB and the direct mail). If you're interested in emphasizing smaller changes, you might want to use a narrower spacing between gridlines in order to make it easier for readers to see small changes (e.g. between \"email\", \"PPC\" and \"PR\" in the figure above):"
   ]
  },
  {
   "cell_type": "code",
   "execution_count": 25,
   "metadata": {
    "scrolled": true
   },
   "outputs": [
    {
     "data": {
      "image/png": "[encoded data removed]",
      "text/plain": [
       "<matplotlib.figure.Figure at 0x1a15aac390>"
      ]
     },
     "metadata": {},
     "output_type": "display_data"
    }
   ],
   "source": [
    "import matplotlib.ticker as ticker\n",
    "\n",
    "\n",
    "fig, ax = plt.subplots(1, 1, figsize=(6,4))\n",
    "# make the bar chart\n",
    "sns.barplot(x=df.index, y=df.values, palette=colours, ax=ax)\n",
    "ax.set_ylabel(\"ROI [%]\")\n",
    "ax.text(0.6, 58, \"53.4%\", fontdict=font)\n",
    "\n",
    "ax.yaxis.set_major_locator(ticker.MultipleLocator(5))\n"
   ]
  },
  {
   "cell_type": "markdown",
   "metadata": {},
   "source": [
    "Again using the concepts of gestalt, we can see that while these gridlines give us finer resolution, they also take up more visual space. We can place them in the background by adjusting their color and weight."
   ]
  },
  {
   "cell_type": "code",
   "execution_count": 26,
   "metadata": {},
   "outputs": [
    {
     "data": {
      "image/png": "[encoded data removed]",
      "text/plain": [
       "<matplotlib.figure.Figure at 0x1a15fe0240>"
      ]
     },
     "metadata": {},
     "output_type": "display_data"
    }
   ],
   "source": [
    "sns.palplot(sns.color_palette(\"Greys\"))"
   ]
  },
  {
   "cell_type": "code",
   "execution_count": 24,
   "metadata": {},
   "outputs": [
    {
     "data": {
      "image/png": "[encoded data removed]",
      "text/plain": [
       "<matplotlib.figure.Figure at 0x1a162a7b70>"
      ]
     },
     "metadata": {},
     "output_type": "display_data"
    }
   ],
   "source": [
    "fig, ax = plt.subplots(1, 1, figsize=(6,4))\n",
    "# make the bar chart\n",
    "sns.barplot(x=df.index, y=df.values, palette=colours, ax=ax)\n",
    "ax.set_ylabel(\"ROI [%]\")\n",
    "ax.text(0.6, 58, \"53.4%\", fontdict=font)\n",
    "\n",
    "ax.yaxis.set_major_locator(ticker.MultipleLocator(5))\n",
    "sns.set_style({'grid.color': '0.5', 'grid.linestyle': ':'})"
   ]
  },
  {
   "cell_type": "markdown",
   "metadata": {},
   "source": [
    "This figure might be less exciting than the infographic above, but it is much more straightforward to read and understand, and much more informative with respect to the narrative we want to present.\n",
    "\n",
    "**Exercise**: Build your own narrative around this data! Make up your own narrative to convey with this data, and then choose a type of data visualization, a set of colours and other elements of your figure accordingly! You can explore the data visualization catalogue for different types of visualizations to try out, and you can explore different combinations of colour palettes, intensities and values of transparency to help you emphasize the most important information. When you're done, please make a pull request to the [Astro Hack Week GitHub repo](https://github.com/AstroHackWeek/AstroHackWeek2018), so that others can learn from your ideas!"
   ]
  },
  {
   "cell_type": "code",
   "execution_count": null,
   "metadata": {},
   "outputs": [],
   "source": []
  }
 ],
 "metadata": {
  "kernelspec": {
   "display_name": "Python 3",
   "language": "python",
   "name": "python3"
  },
  "language_info": {
   "codemirror_mode": {
    "name": "ipython",
    "version": 3
   },
   "file_extension": ".py",
   "mimetype": "text/x-python",
   "name": "python",
   "nbconvert_exporter": "python",
   "pygments_lexer": "ipython3",
   "version": "3.6.6"
  }
 },
 "nbformat": 4,
 "nbformat_minor": 2
}
